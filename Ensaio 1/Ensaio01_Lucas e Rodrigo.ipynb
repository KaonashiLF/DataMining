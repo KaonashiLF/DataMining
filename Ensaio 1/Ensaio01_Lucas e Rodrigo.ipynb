{
 "cells": [
  {
   "cell_type": "markdown",
   "metadata": {},
   "source": [
    "---\n",
    "\n",
    "### Demandas do Especialista do Ministério da Agricultura:\n",
    "\n",
    "1. **Análise de Tendências de Produtividade por Região e Cultura**\n",
    "\n",
    "Objetivo: Avaliar a evolução da produtividade das principais culturas agrícolas (como soja, milho, café, entre outras) nas diferentes regiões do Brasil (Nordeste, Sudeste, Centro-Oeste, etc.) ao longo dos anos.\n",
    "\n",
    "2. **Avaliação do Impacto de Fatores Climáticos na Produção Agrícola**\n",
    "\n",
    "Objetivo: Investigar como variáveis climáticas (chuvas, secas, temperaturas extremas) influenciam a produção agrícola em diferentes estados e para diferentes tipos de culturas.\n",
    "\n",
    "3. **Análise de Desempenho por Cidade e Comparação Inter-Regional**\n",
    "\n",
    "Objetivo: Comparar o desempenho agrícola entre as diferentes cidades do Brasil, destacando aqueles com maior ou menor crescimento no setor agrícola.\n",
    "\n",
    "4. **Identificação de Culturas Estratégicas para Exportação**\n",
    "\n",
    "Objetivo: Determinar quais culturas apresentam maior potencial para exportação com base em produtividade e estabilidade de produção ao longo dos anos.\n",
    "\n",
    "5. **Monitoramento e Previsão de Riscos para a Safra Futuras**\n",
    "\n",
    "Objetivo: Prever possíveis riscos que possam afetar a produção agrícola nas próximas safras, como pragas, doenças, flutuações no clima ou crises econômicas.\n",
    "\n",
    ">>\n",
    "[Cultivo de Grãos no Brasil](https://www.kaggle.com/datasets/llatyki/brazilan-agricultural-production?resource=download)"
   ]
  },
  {
   "cell_type": "code",
   "execution_count": 1,
   "metadata": {},
   "outputs": [],
   "source": [
    "import pandas as pd\n",
    "import numpy as np\n",
    "import plotly.express as px\n",
    "import matplotlib.pyplot as plt\n",
    "import seaborn as sns\n",
    "from matplotlib.colors import LogNorm"
   ]
  },
  {
   "cell_type": "code",
   "execution_count": 2,
   "metadata": {},
   "outputs": [],
   "source": [
    "path_dfs = \"C:\\\\Users\\\\lucas\\\\OneDrive\\\\Área de Trabalho\\\\Estudos\\\\USP\\\\Ciclo 4\\\\C4_Mineração e Análise de Dados\\\\Aula 1\\\\Ensaio 1\\\\\"\n",
    "path_inmet = path_dfs+\"Dados INMET BDMEP\\\\trusted\\\\\""
   ]
  },
  {
   "cell_type": "code",
   "execution_count": 3,
   "metadata": {},
   "outputs": [],
   "source": [
    "df_prod = pd.read_csv(path_dfs+\"production.csv\")\n",
    "df_yield = pd.read_csv(path_dfs+\"yield.csv\")\n",
    "df_ha = pd.read_csv(path_dfs+\"harvested_area.csv\")\n",
    "df_regioes = pd.read_excel(path_dfs+\"Estados_regioes.xlsx\")\n",
    "df_weather = pd.read_excel(path_inmet+\"weather.xlsx\")"
   ]
  },
  {
   "cell_type": "code",
   "execution_count": 5,
   "metadata": {},
   "outputs": [],
   "source": [
    "# Production df transformation\n",
    "df_prod_melted = pd.melt(df_prod, id_vars=['Unnamed: 0', 'Grain', 'Year'], var_name='Cidade', value_name='Produção')"
   ]
  },
  {
   "cell_type": "code",
   "execution_count": 6,
   "metadata": {},
   "outputs": [],
   "source": [
    "# Harvested Area df transformation\n",
    "df_ha_melted = pd.melt(df_ha, id_vars=['Unnamed: 0', 'Grain', 'Year'], var_name='Cidade', value_name='Area')"
   ]
  },
  {
   "cell_type": "code",
   "execution_count": null,
   "metadata": {},
   "outputs": [],
   "source": []
  }
 ],
 "metadata": {
  "kernelspec": {
   "display_name": "Python 3",
   "language": "python",
   "name": "python3"
  },
  "language_info": {
   "codemirror_mode": {
    "name": "ipython",
    "version": 3
   },
   "file_extension": ".py",
   "mimetype": "text/x-python",
   "name": "python",
   "nbconvert_exporter": "python",
   "pygments_lexer": "ipython3",
   "version": "3.10.11"
  }
 },
 "nbformat": 4,
 "nbformat_minor": 2
}
