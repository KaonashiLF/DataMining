{
 "cells": [
  {
   "cell_type": "code",
   "execution_count": 1,
   "metadata": {},
   "outputs": [],
   "source": [
    "import pandas as pd\n",
    "import os"
   ]
  },
  {
   "cell_type": "code",
   "execution_count": 2,
   "metadata": {},
   "outputs": [],
   "source": [
    "# Variables:\n",
    "\n",
    "path_name = \"C:\\\\Users\\\\lucas\\\\OneDrive\\\\Área de Trabalho\\\\Estudos\\\\USP\\\\Ciclo 4\\\\C4_Mineração e Análise de Dados\\\\Aula 1\\\\eEDB-017 - KDD Produção de grãos - E1\\\\Dados INMET BDMEP\\\\\"\n",
    "test_file_name = \"dados_F501_M_2013-12-26_2020-10-01.csv\"\n",
    "path_raw = path_name+'raw\\\\'\n",
    "path_delivery = path_name+'delivery\\\\'\n",
    "path_trusted = path_name+'trusted\\\\'"
   ]
  },
  {
   "cell_type": "code",
   "execution_count": 3,
   "metadata": {},
   "outputs": [],
   "source": [
    "\n",
    "def city_name(path, file):\n",
    "    \n",
    "    file_name = os.path.join(path+'raw\\\\',file)\n",
    "    with open(file_name, mode=\"r\") as file:\n",
    "        first_line = file.readline()\n",
    "        strings_to_replace = [\"\\n\",\"Nome: \"]\n",
    "        for word in strings_to_replace:\n",
    "            first_line = first_line.replace(word,\"\")\n",
    "    file.close()\n",
    "    return first_line\n",
    "\n",
    "\n",
    "def transformation_load(path, file, city):\n",
    "    file_name = os.path.join(path+'raw\\\\',file)\n",
    "    df = pd.read_csv(file_name, sep=';', engine='python', encoding='utf-8', skiprows=9)\n",
    "    df['Cidade'] = city\n",
    "\n",
    "    dest_folder = f'{path}delivery\\\\'\n",
    "    df.to_parquet(f'{dest_folder}{city}.parquet')"
   ]
  },
  {
   "cell_type": "code",
   "execution_count": 4,
   "metadata": {},
   "outputs": [],
   "source": [
    "for file in os.listdir(path_raw):\n",
    "    str_city_name = city_name(path=path_name,file=file)\n",
    "    transformation_load(path=path_name,file=file,city=str_city_name)\n"
   ]
  },
  {
   "cell_type": "code",
   "execution_count": 5,
   "metadata": {},
   "outputs": [],
   "source": [
    "df = pd.read_parquet(path_delivery+'ABROLHOS.parquet')\n",
    "df_columns = df.columns\n",
    "list_of_datasets = []\n",
    "for file in os.listdir(path_delivery):\n",
    "    df_test = pd.read_parquet(path_delivery+file)\n",
    "\n",
    "    list_of_datasets.append(df_test)\n",
    "\n",
    "all_datasets = pd.concat(list_of_datasets)"
   ]
  },
  {
   "cell_type": "code",
   "execution_count": 6,
   "metadata": {},
   "outputs": [],
   "source": [
    "df_rows = len(df)\n",
    "df_columns_qty = len(df.columns)\n",
    "df_date_min = df['Data Medicao'].min()\n",
    "df_date_max = df['Data Medicao'].max()\n",
    "df_city = df['Cidade'].unique()"
   ]
  },
  {
   "cell_type": "code",
   "execution_count": null,
   "metadata": {},
   "outputs": [],
   "source": []
  },
  {
   "cell_type": "code",
   "execution_count": 7,
   "metadata": {},
   "outputs": [
    {
     "name": "stdout",
     "output_type": "stream",
     "text": [
      "Gerando arquivo excel.\n",
      "Sucesso ao gerar arquivo excel.\n",
      "Gerando arquivo parquet.\n",
      "Erro ao gerar parquet.\n",
      "(\"Expected bytes, got a 'float' object\", 'Conversion failed for column PRECIPITACAO TOTAL, MENSAL (AUT)(mm) with type object')\n"
     ]
    }
   ],
   "source": [
    "try:\n",
    "    print('Gerando arquivo excel.')\n",
    "    all_datasets.to_excel(path_trusted+'weather.xlsx')\n",
    "    print('Sucesso ao gerar arquivo excel.')\n",
    "except Exception as e:\n",
    "    print('Erro ao gerar excel.')\n",
    "    print(e)"
   ]
  }
 ],
 "metadata": {
  "kernelspec": {
   "display_name": "Python 3",
   "language": "python",
   "name": "python3"
  },
  "language_info": {
   "codemirror_mode": {
    "name": "ipython",
    "version": 3
   },
   "file_extension": ".py",
   "mimetype": "text/x-python",
   "name": "python",
   "nbconvert_exporter": "python",
   "pygments_lexer": "ipython3",
   "version": "3.10.11"
  }
 },
 "nbformat": 4,
 "nbformat_minor": 2
}
