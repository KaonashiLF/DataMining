{
  "cells": [
    {
      "cell_type": "markdown",
      "metadata": {
        "id": "gsuJAsAUFmBx"
      },
      "source": [
        "# Ensaio 02 - Análise e Pré-processamento (continuação)\n",
        "\n"
      ]
    },
    {
      "cell_type": "code",
      "execution_count": 1,
      "metadata": {
        "id": "4Gcr8qI2P-8C"
      },
      "outputs": [],
      "source": [
        "import os\n",
        "os.environ['KMP_DUPLICATE_LIB_OK']='True'"
      ]
    },
    {
      "cell_type": "code",
      "execution_count": 2,
      "metadata": {
        "id": "xMeL1vt-GEWQ"
      },
      "outputs": [],
      "source": [
        "import pandas as pd"
      ]
    },
    {
      "cell_type": "code",
      "execution_count": 4,
      "metadata": {
        "id": "rzIwss9VGEWU"
      },
      "outputs": [],
      "source": [
        "df = pd.read_csv('production.csv')"
      ]
    },
    {
      "cell_type": "markdown",
      "metadata": {
        "id": "SU_5CjiqvWaP"
      },
      "source": [
        "## Seleção de Dados"
      ]
    },
    {
      "cell_type": "code",
      "execution_count": null,
      "metadata": {
        "colab": {
          "base_uri": "https://localhost:8080/",
          "height": 307
        },
        "id": "ADJ4MH0FQl-K",
        "outputId": "b0434eb2-c8ee-46ac-ece2-1fe97e965f55"
      },
      "outputs": [
        {
          "data": {
            "application/vnd.google.colaboratory.intrinsic+json": {
              "type": "dataframe",
              "variable_name": "df"
            },
            "text/html": [
              "\n",
              "  <div id=\"df-f5d4a547-f950-4ff2-baf4-874d432bc3ed\" class=\"colab-df-container\">\n",
              "    <div>\n",
              "<style scoped>\n",
              "    .dataframe tbody tr th:only-of-type {\n",
              "        vertical-align: middle;\n",
              "    }\n",
              "\n",
              "    .dataframe tbody tr th {\n",
              "        vertical-align: top;\n",
              "    }\n",
              "\n",
              "    .dataframe thead th {\n",
              "        text-align: right;\n",
              "    }\n",
              "</style>\n",
              "<table border=\"1\" class=\"dataframe\">\n",
              "  <thead>\n",
              "    <tr style=\"text-align: right;\">\n",
              "      <th></th>\n",
              "      <th>Unnamed: 0</th>\n",
              "      <th>Grain</th>\n",
              "      <th>Year</th>\n",
              "      <th>Alta Floresta D'Oeste (RO)</th>\n",
              "      <th>Ariquemes (RO)</th>\n",
              "      <th>Cabixi (RO)</th>\n",
              "      <th>Cacoal (RO)</th>\n",
              "      <th>Cerejeiras (RO)</th>\n",
              "      <th>Colorado do Oeste (RO)</th>\n",
              "      <th>Corumbiara (RO)</th>\n",
              "      <th>...</th>\n",
              "      <th>Uruaçu (GO)</th>\n",
              "      <th>Uruana (GO)</th>\n",
              "      <th>Urutaí (GO)</th>\n",
              "      <th>Valparaíso de Goiás (GO)</th>\n",
              "      <th>Varjão (GO)</th>\n",
              "      <th>Vianópolis (GO)</th>\n",
              "      <th>Vicentinópolis (GO)</th>\n",
              "      <th>Vila Boa (GO)</th>\n",
              "      <th>Vila Propício (GO)</th>\n",
              "      <th>Brasília (DF)</th>\n",
              "    </tr>\n",
              "  </thead>\n",
              "  <tbody>\n",
              "    <tr>\n",
              "      <th>0</th>\n",
              "      <td>0</td>\n",
              "      <td>Sorghum</td>\n",
              "      <td>1974</td>\n",
              "      <td>NaN</td>\n",
              "      <td>NaN</td>\n",
              "      <td>NaN</td>\n",
              "      <td>NaN</td>\n",
              "      <td>NaN</td>\n",
              "      <td>NaN</td>\n",
              "      <td>NaN</td>\n",
              "      <td>...</td>\n",
              "      <td>NaN</td>\n",
              "      <td>NaN</td>\n",
              "      <td>NaN</td>\n",
              "      <td>NaN</td>\n",
              "      <td>NaN</td>\n",
              "      <td>NaN</td>\n",
              "      <td>NaN</td>\n",
              "      <td>NaN</td>\n",
              "      <td>NaN</td>\n",
              "      <td>NaN</td>\n",
              "    </tr>\n",
              "    <tr>\n",
              "      <th>1</th>\n",
              "      <td>1</td>\n",
              "      <td>Wheat</td>\n",
              "      <td>1974</td>\n",
              "      <td>NaN</td>\n",
              "      <td>NaN</td>\n",
              "      <td>NaN</td>\n",
              "      <td>NaN</td>\n",
              "      <td>NaN</td>\n",
              "      <td>NaN</td>\n",
              "      <td>NaN</td>\n",
              "      <td>...</td>\n",
              "      <td>NaN</td>\n",
              "      <td>NaN</td>\n",
              "      <td>NaN</td>\n",
              "      <td>NaN</td>\n",
              "      <td>NaN</td>\n",
              "      <td>NaN</td>\n",
              "      <td>NaN</td>\n",
              "      <td>NaN</td>\n",
              "      <td>NaN</td>\n",
              "      <td>NaN</td>\n",
              "    </tr>\n",
              "    <tr>\n",
              "      <th>2</th>\n",
              "      <td>2</td>\n",
              "      <td>Sorghum</td>\n",
              "      <td>1975</td>\n",
              "      <td>NaN</td>\n",
              "      <td>NaN</td>\n",
              "      <td>NaN</td>\n",
              "      <td>NaN</td>\n",
              "      <td>NaN</td>\n",
              "      <td>NaN</td>\n",
              "      <td>NaN</td>\n",
              "      <td>...</td>\n",
              "      <td>NaN</td>\n",
              "      <td>NaN</td>\n",
              "      <td>NaN</td>\n",
              "      <td>NaN</td>\n",
              "      <td>NaN</td>\n",
              "      <td>NaN</td>\n",
              "      <td>NaN</td>\n",
              "      <td>NaN</td>\n",
              "      <td>NaN</td>\n",
              "      <td>NaN</td>\n",
              "    </tr>\n",
              "    <tr>\n",
              "      <th>3</th>\n",
              "      <td>3</td>\n",
              "      <td>Wheat</td>\n",
              "      <td>1975</td>\n",
              "      <td>NaN</td>\n",
              "      <td>NaN</td>\n",
              "      <td>NaN</td>\n",
              "      <td>NaN</td>\n",
              "      <td>NaN</td>\n",
              "      <td>NaN</td>\n",
              "      <td>NaN</td>\n",
              "      <td>...</td>\n",
              "      <td>NaN</td>\n",
              "      <td>NaN</td>\n",
              "      <td>NaN</td>\n",
              "      <td>NaN</td>\n",
              "      <td>NaN</td>\n",
              "      <td>NaN</td>\n",
              "      <td>NaN</td>\n",
              "      <td>NaN</td>\n",
              "      <td>NaN</td>\n",
              "      <td>NaN</td>\n",
              "    </tr>\n",
              "    <tr>\n",
              "      <th>4</th>\n",
              "      <td>4</td>\n",
              "      <td>Sorghum</td>\n",
              "      <td>1976</td>\n",
              "      <td>NaN</td>\n",
              "      <td>NaN</td>\n",
              "      <td>NaN</td>\n",
              "      <td>NaN</td>\n",
              "      <td>NaN</td>\n",
              "      <td>NaN</td>\n",
              "      <td>NaN</td>\n",
              "      <td>...</td>\n",
              "      <td>NaN</td>\n",
              "      <td>NaN</td>\n",
              "      <td>2.0</td>\n",
              "      <td>NaN</td>\n",
              "      <td>NaN</td>\n",
              "      <td>NaN</td>\n",
              "      <td>NaN</td>\n",
              "      <td>NaN</td>\n",
              "      <td>NaN</td>\n",
              "      <td>NaN</td>\n",
              "    </tr>\n",
              "  </tbody>\n",
              "</table>\n",
              "<p>5 rows × 5566 columns</p>\n",
              "</div>\n",
              "    <div class=\"colab-df-buttons\">\n",
              "\n",
              "  <div class=\"colab-df-container\">\n",
              "    <button class=\"colab-df-convert\" onclick=\"convertToInteractive('df-f5d4a547-f950-4ff2-baf4-874d432bc3ed')\"\n",
              "            title=\"Convert this dataframe to an interactive table.\"\n",
              "            style=\"display:none;\">\n",
              "\n",
              "  <svg xmlns=\"http://www.w3.org/2000/svg\" height=\"24px\" viewBox=\"0 -960 960 960\">\n",
              "    <path d=\"M120-120v-720h720v720H120Zm60-500h600v-160H180v160Zm220 220h160v-160H400v160Zm0 220h160v-160H400v160ZM180-400h160v-160H180v160Zm440 0h160v-160H620v160ZM180-180h160v-160H180v160Zm440 0h160v-160H620v160Z\"/>\n",
              "  </svg>\n",
              "    </button>\n",
              "\n",
              "  <style>\n",
              "    .colab-df-container {\n",
              "      display:flex;\n",
              "      gap: 12px;\n",
              "    }\n",
              "\n",
              "    .colab-df-convert {\n",
              "      background-color: #E8F0FE;\n",
              "      border: none;\n",
              "      border-radius: 50%;\n",
              "      cursor: pointer;\n",
              "      display: none;\n",
              "      fill: #1967D2;\n",
              "      height: 32px;\n",
              "      padding: 0 0 0 0;\n",
              "      width: 32px;\n",
              "    }\n",
              "\n",
              "    .colab-df-convert:hover {\n",
              "      background-color: #E2EBFA;\n",
              "      box-shadow: 0px 1px 2px rgba(60, 64, 67, 0.3), 0px 1px 3px 1px rgba(60, 64, 67, 0.15);\n",
              "      fill: #174EA6;\n",
              "    }\n",
              "\n",
              "    .colab-df-buttons div {\n",
              "      margin-bottom: 4px;\n",
              "    }\n",
              "\n",
              "    [theme=dark] .colab-df-convert {\n",
              "      background-color: #3B4455;\n",
              "      fill: #D2E3FC;\n",
              "    }\n",
              "\n",
              "    [theme=dark] .colab-df-convert:hover {\n",
              "      background-color: #434B5C;\n",
              "      box-shadow: 0px 1px 3px 1px rgba(0, 0, 0, 0.15);\n",
              "      filter: drop-shadow(0px 1px 2px rgba(0, 0, 0, 0.3));\n",
              "      fill: #FFFFFF;\n",
              "    }\n",
              "  </style>\n",
              "\n",
              "    <script>\n",
              "      const buttonEl =\n",
              "        document.querySelector('#df-f5d4a547-f950-4ff2-baf4-874d432bc3ed button.colab-df-convert');\n",
              "      buttonEl.style.display =\n",
              "        google.colab.kernel.accessAllowed ? 'block' : 'none';\n",
              "\n",
              "      async function convertToInteractive(key) {\n",
              "        const element = document.querySelector('#df-f5d4a547-f950-4ff2-baf4-874d432bc3ed');\n",
              "        const dataTable =\n",
              "          await google.colab.kernel.invokeFunction('convertToInteractive',\n",
              "                                                    [key], {});\n",
              "        if (!dataTable) return;\n",
              "\n",
              "        const docLinkHtml = 'Like what you see? Visit the ' +\n",
              "          '<a target=\"_blank\" href=https://colab.research.google.com/notebooks/data_table.ipynb>data table notebook</a>'\n",
              "          + ' to learn more about interactive tables.';\n",
              "        element.innerHTML = '';\n",
              "        dataTable['output_type'] = 'display_data';\n",
              "        await google.colab.output.renderOutput(dataTable, element);\n",
              "        const docLink = document.createElement('div');\n",
              "        docLink.innerHTML = docLinkHtml;\n",
              "        element.appendChild(docLink);\n",
              "      }\n",
              "    </script>\n",
              "  </div>\n",
              "\n",
              "\n",
              "<div id=\"df-e25d809f-5bbb-4d0d-8fba-16ee904c83a3\">\n",
              "  <button class=\"colab-df-quickchart\" onclick=\"quickchart('df-e25d809f-5bbb-4d0d-8fba-16ee904c83a3')\"\n",
              "            title=\"Suggest charts\"\n",
              "            style=\"display:none;\">\n",
              "\n",
              "<svg xmlns=\"http://www.w3.org/2000/svg\" height=\"24px\"viewBox=\"0 0 24 24\"\n",
              "     width=\"24px\">\n",
              "    <g>\n",
              "        <path d=\"M19 3H5c-1.1 0-2 .9-2 2v14c0 1.1.9 2 2 2h14c1.1 0 2-.9 2-2V5c0-1.1-.9-2-2-2zM9 17H7v-7h2v7zm4 0h-2V7h2v10zm4 0h-2v-4h2v4z\"/>\n",
              "    </g>\n",
              "</svg>\n",
              "  </button>\n",
              "\n",
              "<style>\n",
              "  .colab-df-quickchart {\n",
              "      --bg-color: #E8F0FE;\n",
              "      --fill-color: #1967D2;\n",
              "      --hover-bg-color: #E2EBFA;\n",
              "      --hover-fill-color: #174EA6;\n",
              "      --disabled-fill-color: #AAA;\n",
              "      --disabled-bg-color: #DDD;\n",
              "  }\n",
              "\n",
              "  [theme=dark] .colab-df-quickchart {\n",
              "      --bg-color: #3B4455;\n",
              "      --fill-color: #D2E3FC;\n",
              "      --hover-bg-color: #434B5C;\n",
              "      --hover-fill-color: #FFFFFF;\n",
              "      --disabled-bg-color: #3B4455;\n",
              "      --disabled-fill-color: #666;\n",
              "  }\n",
              "\n",
              "  .colab-df-quickchart {\n",
              "    background-color: var(--bg-color);\n",
              "    border: none;\n",
              "    border-radius: 50%;\n",
              "    cursor: pointer;\n",
              "    display: none;\n",
              "    fill: var(--fill-color);\n",
              "    height: 32px;\n",
              "    padding: 0;\n",
              "    width: 32px;\n",
              "  }\n",
              "\n",
              "  .colab-df-quickchart:hover {\n",
              "    background-color: var(--hover-bg-color);\n",
              "    box-shadow: 0 1px 2px rgba(60, 64, 67, 0.3), 0 1px 3px 1px rgba(60, 64, 67, 0.15);\n",
              "    fill: var(--button-hover-fill-color);\n",
              "  }\n",
              "\n",
              "  .colab-df-quickchart-complete:disabled,\n",
              "  .colab-df-quickchart-complete:disabled:hover {\n",
              "    background-color: var(--disabled-bg-color);\n",
              "    fill: var(--disabled-fill-color);\n",
              "    box-shadow: none;\n",
              "  }\n",
              "\n",
              "  .colab-df-spinner {\n",
              "    border: 2px solid var(--fill-color);\n",
              "    border-color: transparent;\n",
              "    border-bottom-color: var(--fill-color);\n",
              "    animation:\n",
              "      spin 1s steps(1) infinite;\n",
              "  }\n",
              "\n",
              "  @keyframes spin {\n",
              "    0% {\n",
              "      border-color: transparent;\n",
              "      border-bottom-color: var(--fill-color);\n",
              "      border-left-color: var(--fill-color);\n",
              "    }\n",
              "    20% {\n",
              "      border-color: transparent;\n",
              "      border-left-color: var(--fill-color);\n",
              "      border-top-color: var(--fill-color);\n",
              "    }\n",
              "    30% {\n",
              "      border-color: transparent;\n",
              "      border-left-color: var(--fill-color);\n",
              "      border-top-color: var(--fill-color);\n",
              "      border-right-color: var(--fill-color);\n",
              "    }\n",
              "    40% {\n",
              "      border-color: transparent;\n",
              "      border-right-color: var(--fill-color);\n",
              "      border-top-color: var(--fill-color);\n",
              "    }\n",
              "    60% {\n",
              "      border-color: transparent;\n",
              "      border-right-color: var(--fill-color);\n",
              "    }\n",
              "    80% {\n",
              "      border-color: transparent;\n",
              "      border-right-color: var(--fill-color);\n",
              "      border-bottom-color: var(--fill-color);\n",
              "    }\n",
              "    90% {\n",
              "      border-color: transparent;\n",
              "      border-bottom-color: var(--fill-color);\n",
              "    }\n",
              "  }\n",
              "</style>\n",
              "\n",
              "  <script>\n",
              "    async function quickchart(key) {\n",
              "      const quickchartButtonEl =\n",
              "        document.querySelector('#' + key + ' button');\n",
              "      quickchartButtonEl.disabled = true;  // To prevent multiple clicks.\n",
              "      quickchartButtonEl.classList.add('colab-df-spinner');\n",
              "      try {\n",
              "        const charts = await google.colab.kernel.invokeFunction(\n",
              "            'suggestCharts', [key], {});\n",
              "      } catch (error) {\n",
              "        console.error('Error during call to suggestCharts:', error);\n",
              "      }\n",
              "      quickchartButtonEl.classList.remove('colab-df-spinner');\n",
              "      quickchartButtonEl.classList.add('colab-df-quickchart-complete');\n",
              "    }\n",
              "    (() => {\n",
              "      let quickchartButtonEl =\n",
              "        document.querySelector('#df-e25d809f-5bbb-4d0d-8fba-16ee904c83a3 button');\n",
              "      quickchartButtonEl.style.display =\n",
              "        google.colab.kernel.accessAllowed ? 'block' : 'none';\n",
              "    })();\n",
              "  </script>\n",
              "</div>\n",
              "\n",
              "    </div>\n",
              "  </div>\n"
            ],
            "text/plain": [
              "   Unnamed: 0    Grain  Year  Alta Floresta D'Oeste (RO)  Ariquemes (RO)  \\\n",
              "0           0  Sorghum  1974                         NaN             NaN   \n",
              "1           1    Wheat  1974                         NaN             NaN   \n",
              "2           2  Sorghum  1975                         NaN             NaN   \n",
              "3           3    Wheat  1975                         NaN             NaN   \n",
              "4           4  Sorghum  1976                         NaN             NaN   \n",
              "\n",
              "   Cabixi (RO)  Cacoal (RO)  Cerejeiras (RO)  Colorado do Oeste (RO)  \\\n",
              "0          NaN          NaN              NaN                     NaN   \n",
              "1          NaN          NaN              NaN                     NaN   \n",
              "2          NaN          NaN              NaN                     NaN   \n",
              "3          NaN          NaN              NaN                     NaN   \n",
              "4          NaN          NaN              NaN                     NaN   \n",
              "\n",
              "   Corumbiara (RO)  ...  Uruaçu (GO)  Uruana (GO)  Urutaí (GO)  \\\n",
              "0              NaN  ...          NaN          NaN          NaN   \n",
              "1              NaN  ...          NaN          NaN          NaN   \n",
              "2              NaN  ...          NaN          NaN          NaN   \n",
              "3              NaN  ...          NaN          NaN          NaN   \n",
              "4              NaN  ...          NaN          NaN          2.0   \n",
              "\n",
              "   Valparaíso de Goiás (GO)  Varjão (GO)  Vianópolis (GO)  \\\n",
              "0                       NaN          NaN              NaN   \n",
              "1                       NaN          NaN              NaN   \n",
              "2                       NaN          NaN              NaN   \n",
              "3                       NaN          NaN              NaN   \n",
              "4                       NaN          NaN              NaN   \n",
              "\n",
              "   Vicentinópolis (GO)  Vila Boa (GO)  Vila Propício (GO)  Brasília (DF)  \n",
              "0                  NaN            NaN                 NaN            NaN  \n",
              "1                  NaN            NaN                 NaN            NaN  \n",
              "2                  NaN            NaN                 NaN            NaN  \n",
              "3                  NaN            NaN                 NaN            NaN  \n",
              "4                  NaN            NaN                 NaN            NaN  \n",
              "\n",
              "[5 rows x 5566 columns]"
            ]
          },
          "execution_count": 39,
          "metadata": {},
          "output_type": "execute_result"
        }
      ],
      "source": [
        "df.head()"
      ]
    },
    {
      "cell_type": "code",
      "execution_count": 5,
      "metadata": {
        "id": "bM6wYSAnRz4J"
      },
      "outputs": [],
      "source": [
        "melted_df = pd.melt(df, id_vars=['Unnamed: 0', 'Grain', 'Year'], var_name='Cidade', value_name='Produção')"
      ]
    },
    {
      "cell_type": "code",
      "execution_count": 6,
      "metadata": {
        "colab": {
          "base_uri": "https://localhost:8080/",
          "height": 363
        },
        "id": "TTW4Erv0Fy8d",
        "outputId": "70c4697c-a341-4bf6-f551-d5468e16ae58"
      },
      "outputs": [
        {
          "data": {
            "text/html": [
              "<div>\n",
              "<style scoped>\n",
              "    .dataframe tbody tr th:only-of-type {\n",
              "        vertical-align: middle;\n",
              "    }\n",
              "\n",
              "    .dataframe tbody tr th {\n",
              "        vertical-align: top;\n",
              "    }\n",
              "\n",
              "    .dataframe thead th {\n",
              "        text-align: right;\n",
              "    }\n",
              "</style>\n",
              "<table border=\"1\" class=\"dataframe\">\n",
              "  <thead>\n",
              "    <tr style=\"text-align: right;\">\n",
              "      <th></th>\n",
              "      <th>Unnamed: 0</th>\n",
              "      <th>Grain</th>\n",
              "      <th>Year</th>\n",
              "      <th>Cidade</th>\n",
              "      <th>Produção</th>\n",
              "    </tr>\n",
              "  </thead>\n",
              "  <tbody>\n",
              "    <tr>\n",
              "      <th>1189577</th>\n",
              "      <td>17</td>\n",
              "      <td>Wheat</td>\n",
              "      <td>1982</td>\n",
              "      <td>Iguatama (MG)</td>\n",
              "      <td>NaN</td>\n",
              "    </tr>\n",
              "    <tr>\n",
              "      <th>1626060</th>\n",
              "      <td>420</td>\n",
              "      <td>Barley</td>\n",
              "      <td>2000</td>\n",
              "      <td>Itupeva (SP)</td>\n",
              "      <td>NaN</td>\n",
              "    </tr>\n",
              "    <tr>\n",
              "      <th>1666951</th>\n",
              "      <td>371</td>\n",
              "      <td>Pea</td>\n",
              "      <td>1975</td>\n",
              "      <td>Natividade da Serra (SP)</td>\n",
              "      <td>NaN</td>\n",
              "    </tr>\n",
              "    <tr>\n",
              "      <th>466207</th>\n",
              "      <td>227</td>\n",
              "      <td>Beans</td>\n",
              "      <td>1995</td>\n",
              "      <td>Novo Oriente (CE)</td>\n",
              "      <td>0.220</td>\n",
              "    </tr>\n",
              "    <tr>\n",
              "      <th>847067</th>\n",
              "      <td>207</td>\n",
              "      <td>Beans</td>\n",
              "      <td>1985</td>\n",
              "      <td>Andorinha (BA)</td>\n",
              "      <td>NaN</td>\n",
              "    </tr>\n",
              "    <tr>\n",
              "      <th>1350727</th>\n",
              "      <td>167</td>\n",
              "      <td>Soybeans</td>\n",
              "      <td>2011</td>\n",
              "      <td>Santa Rita do Itueto (MG)</td>\n",
              "      <td>NaN</td>\n",
              "    </tr>\n",
              "    <tr>\n",
              "      <th>760513</th>\n",
              "      <td>133</td>\n",
              "      <td>Soybeans</td>\n",
              "      <td>1994</td>\n",
              "      <td>Barra de Santo Antônio (AL)</td>\n",
              "      <td>NaN</td>\n",
              "    </tr>\n",
              "    <tr>\n",
              "      <th>1515401</th>\n",
              "      <td>161</td>\n",
              "      <td>Soybeans</td>\n",
              "      <td>2008</td>\n",
              "      <td>Araçatuba (SP)</td>\n",
              "      <td>2.400</td>\n",
              "    </tr>\n",
              "    <tr>\n",
              "      <th>805661</th>\n",
              "      <td>201</td>\n",
              "      <td>Beans</td>\n",
              "      <td>1982</td>\n",
              "      <td>Amparo do São Francisco (SE)</td>\n",
              "      <td>0.725</td>\n",
              "    </tr>\n",
              "    <tr>\n",
              "      <th>801232</th>\n",
              "      <td>372</td>\n",
              "      <td>Barley</td>\n",
              "      <td>1976</td>\n",
              "      <td>São Miguel dos Milagres (AL)</td>\n",
              "      <td>NaN</td>\n",
              "    </tr>\n",
              "  </tbody>\n",
              "</table>\n",
              "</div>"
            ],
            "text/plain": [
              "         Unnamed: 0     Grain  Year                        Cidade  Produção\n",
              "1189577          17     Wheat  1982                 Iguatama (MG)       NaN\n",
              "1626060         420    Barley  2000                  Itupeva (SP)       NaN\n",
              "1666951         371       Pea  1975      Natividade da Serra (SP)       NaN\n",
              "466207          227     Beans  1995             Novo Oriente (CE)     0.220\n",
              "847067          207     Beans  1985                Andorinha (BA)       NaN\n",
              "1350727         167  Soybeans  2011     Santa Rita do Itueto (MG)       NaN\n",
              "760513          133  Soybeans  1994   Barra de Santo Antônio (AL)       NaN\n",
              "1515401         161  Soybeans  2008                Araçatuba (SP)     2.400\n",
              "805661          201     Beans  1982  Amparo do São Francisco (SE)     0.725\n",
              "801232          372    Barley  1976  São Miguel dos Milagres (AL)       NaN"
            ]
          },
          "execution_count": 6,
          "metadata": {},
          "output_type": "execute_result"
        }
      ],
      "source": [
        "melted_df.sample(10)"
      ]
    },
    {
      "cell_type": "code",
      "execution_count": 7,
      "metadata": {
        "id": "nRuMN7bzUAx3"
      },
      "outputs": [],
      "source": [
        "melted_df=melted_df.rename(columns={'Unnamed: 0':'ID'})"
      ]
    },
    {
      "cell_type": "code",
      "execution_count": 8,
      "metadata": {
        "colab": {
          "base_uri": "https://localhost:8080/",
          "height": 206
        },
        "id": "pDf5xC2FUZMZ",
        "outputId": "1e6ca0e6-3a41-4936-aa64-94f227684194"
      },
      "outputs": [
        {
          "data": {
            "text/html": [
              "<div>\n",
              "<style scoped>\n",
              "    .dataframe tbody tr th:only-of-type {\n",
              "        vertical-align: middle;\n",
              "    }\n",
              "\n",
              "    .dataframe tbody tr th {\n",
              "        vertical-align: top;\n",
              "    }\n",
              "\n",
              "    .dataframe thead th {\n",
              "        text-align: right;\n",
              "    }\n",
              "</style>\n",
              "<table border=\"1\" class=\"dataframe\">\n",
              "  <thead>\n",
              "    <tr style=\"text-align: right;\">\n",
              "      <th></th>\n",
              "      <th>ID</th>\n",
              "      <th>Grain</th>\n",
              "      <th>Year</th>\n",
              "      <th>Cidade</th>\n",
              "      <th>Produção</th>\n",
              "    </tr>\n",
              "  </thead>\n",
              "  <tbody>\n",
              "    <tr>\n",
              "      <th>0</th>\n",
              "      <td>0</td>\n",
              "      <td>Sorghum</td>\n",
              "      <td>1974</td>\n",
              "      <td>Alta Floresta D'Oeste (RO)</td>\n",
              "      <td>NaN</td>\n",
              "    </tr>\n",
              "    <tr>\n",
              "      <th>1</th>\n",
              "      <td>1</td>\n",
              "      <td>Wheat</td>\n",
              "      <td>1974</td>\n",
              "      <td>Alta Floresta D'Oeste (RO)</td>\n",
              "      <td>NaN</td>\n",
              "    </tr>\n",
              "    <tr>\n",
              "      <th>2</th>\n",
              "      <td>2</td>\n",
              "      <td>Sorghum</td>\n",
              "      <td>1975</td>\n",
              "      <td>Alta Floresta D'Oeste (RO)</td>\n",
              "      <td>NaN</td>\n",
              "    </tr>\n",
              "    <tr>\n",
              "      <th>3</th>\n",
              "      <td>3</td>\n",
              "      <td>Wheat</td>\n",
              "      <td>1975</td>\n",
              "      <td>Alta Floresta D'Oeste (RO)</td>\n",
              "      <td>NaN</td>\n",
              "    </tr>\n",
              "    <tr>\n",
              "      <th>4</th>\n",
              "      <td>4</td>\n",
              "      <td>Sorghum</td>\n",
              "      <td>1976</td>\n",
              "      <td>Alta Floresta D'Oeste (RO)</td>\n",
              "      <td>NaN</td>\n",
              "    </tr>\n",
              "  </tbody>\n",
              "</table>\n",
              "</div>"
            ],
            "text/plain": [
              "   ID    Grain  Year                      Cidade  Produção\n",
              "0   0  Sorghum  1974  Alta Floresta D'Oeste (RO)       NaN\n",
              "1   1    Wheat  1974  Alta Floresta D'Oeste (RO)       NaN\n",
              "2   2  Sorghum  1975  Alta Floresta D'Oeste (RO)       NaN\n",
              "3   3    Wheat  1975  Alta Floresta D'Oeste (RO)       NaN\n",
              "4   4  Sorghum  1976  Alta Floresta D'Oeste (RO)       NaN"
            ]
          },
          "execution_count": 8,
          "metadata": {},
          "output_type": "execute_result"
        }
      ],
      "source": [
        "melted_df.head()"
      ]
    },
    {
      "cell_type": "code",
      "execution_count": 9,
      "metadata": {
        "id": "2r95Zp9XUql8"
      },
      "outputs": [],
      "source": [
        "df1 = pd.read_csv('harvested_area.csv')"
      ]
    },
    {
      "cell_type": "code",
      "execution_count": 10,
      "metadata": {
        "colab": {
          "base_uri": "https://localhost:8080/",
          "height": 307
        },
        "id": "g-Y1VPuBVNwl",
        "outputId": "65a34e33-1c10-4acc-e2a9-2ef9eaf45aee"
      },
      "outputs": [
        {
          "data": {
            "text/html": [
              "<div>\n",
              "<style scoped>\n",
              "    .dataframe tbody tr th:only-of-type {\n",
              "        vertical-align: middle;\n",
              "    }\n",
              "\n",
              "    .dataframe tbody tr th {\n",
              "        vertical-align: top;\n",
              "    }\n",
              "\n",
              "    .dataframe thead th {\n",
              "        text-align: right;\n",
              "    }\n",
              "</style>\n",
              "<table border=\"1\" class=\"dataframe\">\n",
              "  <thead>\n",
              "    <tr style=\"text-align: right;\">\n",
              "      <th></th>\n",
              "      <th>Unnamed: 0</th>\n",
              "      <th>Grain</th>\n",
              "      <th>Year</th>\n",
              "      <th>Alta Floresta D'Oeste (RO)</th>\n",
              "      <th>Ariquemes (RO)</th>\n",
              "      <th>Cabixi (RO)</th>\n",
              "      <th>Cacoal (RO)</th>\n",
              "      <th>Cerejeiras (RO)</th>\n",
              "      <th>Colorado do Oeste (RO)</th>\n",
              "      <th>Corumbiara (RO)</th>\n",
              "      <th>...</th>\n",
              "      <th>Uruaçu (GO)</th>\n",
              "      <th>Uruana (GO)</th>\n",
              "      <th>Urutaí (GO)</th>\n",
              "      <th>Valparaíso de Goiás (GO)</th>\n",
              "      <th>Varjão (GO)</th>\n",
              "      <th>Vianópolis (GO)</th>\n",
              "      <th>Vicentinópolis (GO)</th>\n",
              "      <th>Vila Boa (GO)</th>\n",
              "      <th>Vila Propício (GO)</th>\n",
              "      <th>Brasília (DF)</th>\n",
              "    </tr>\n",
              "  </thead>\n",
              "  <tbody>\n",
              "    <tr>\n",
              "      <th>0</th>\n",
              "      <td>0</td>\n",
              "      <td>Sorghum</td>\n",
              "      <td>1974</td>\n",
              "      <td>0.0</td>\n",
              "      <td>0.0</td>\n",
              "      <td>0.0</td>\n",
              "      <td>0.0</td>\n",
              "      <td>0.0</td>\n",
              "      <td>0.0</td>\n",
              "      <td>0.0</td>\n",
              "      <td>...</td>\n",
              "      <td>0.0</td>\n",
              "      <td>0.0</td>\n",
              "      <td>0.0</td>\n",
              "      <td>0.0</td>\n",
              "      <td>0.0</td>\n",
              "      <td>0.0</td>\n",
              "      <td>0.0</td>\n",
              "      <td>0.0</td>\n",
              "      <td>0.0</td>\n",
              "      <td>0.0</td>\n",
              "    </tr>\n",
              "    <tr>\n",
              "      <th>1</th>\n",
              "      <td>1</td>\n",
              "      <td>Wheat</td>\n",
              "      <td>1974</td>\n",
              "      <td>0.0</td>\n",
              "      <td>0.0</td>\n",
              "      <td>0.0</td>\n",
              "      <td>0.0</td>\n",
              "      <td>0.0</td>\n",
              "      <td>0.0</td>\n",
              "      <td>0.0</td>\n",
              "      <td>...</td>\n",
              "      <td>0.0</td>\n",
              "      <td>0.0</td>\n",
              "      <td>0.0</td>\n",
              "      <td>0.0</td>\n",
              "      <td>0.0</td>\n",
              "      <td>0.0</td>\n",
              "      <td>0.0</td>\n",
              "      <td>0.0</td>\n",
              "      <td>0.0</td>\n",
              "      <td>0.0</td>\n",
              "    </tr>\n",
              "    <tr>\n",
              "      <th>2</th>\n",
              "      <td>2</td>\n",
              "      <td>Sorghum</td>\n",
              "      <td>1975</td>\n",
              "      <td>0.0</td>\n",
              "      <td>0.0</td>\n",
              "      <td>0.0</td>\n",
              "      <td>0.0</td>\n",
              "      <td>0.0</td>\n",
              "      <td>0.0</td>\n",
              "      <td>0.0</td>\n",
              "      <td>...</td>\n",
              "      <td>0.0</td>\n",
              "      <td>0.0</td>\n",
              "      <td>0.0</td>\n",
              "      <td>0.0</td>\n",
              "      <td>0.0</td>\n",
              "      <td>0.0</td>\n",
              "      <td>0.0</td>\n",
              "      <td>0.0</td>\n",
              "      <td>0.0</td>\n",
              "      <td>0.0</td>\n",
              "    </tr>\n",
              "    <tr>\n",
              "      <th>3</th>\n",
              "      <td>3</td>\n",
              "      <td>Wheat</td>\n",
              "      <td>1975</td>\n",
              "      <td>0.0</td>\n",
              "      <td>0.0</td>\n",
              "      <td>0.0</td>\n",
              "      <td>0.0</td>\n",
              "      <td>0.0</td>\n",
              "      <td>0.0</td>\n",
              "      <td>0.0</td>\n",
              "      <td>...</td>\n",
              "      <td>0.0</td>\n",
              "      <td>0.0</td>\n",
              "      <td>0.0</td>\n",
              "      <td>0.0</td>\n",
              "      <td>0.0</td>\n",
              "      <td>0.0</td>\n",
              "      <td>0.0</td>\n",
              "      <td>0.0</td>\n",
              "      <td>0.0</td>\n",
              "      <td>0.0</td>\n",
              "    </tr>\n",
              "    <tr>\n",
              "      <th>4</th>\n",
              "      <td>4</td>\n",
              "      <td>Sorghum</td>\n",
              "      <td>1976</td>\n",
              "      <td>0.0</td>\n",
              "      <td>0.0</td>\n",
              "      <td>0.0</td>\n",
              "      <td>0.0</td>\n",
              "      <td>0.0</td>\n",
              "      <td>0.0</td>\n",
              "      <td>0.0</td>\n",
              "      <td>...</td>\n",
              "      <td>0.0</td>\n",
              "      <td>0.0</td>\n",
              "      <td>25.0</td>\n",
              "      <td>0.0</td>\n",
              "      <td>0.0</td>\n",
              "      <td>0.0</td>\n",
              "      <td>0.0</td>\n",
              "      <td>0.0</td>\n",
              "      <td>0.0</td>\n",
              "      <td>0.0</td>\n",
              "    </tr>\n",
              "  </tbody>\n",
              "</table>\n",
              "<p>5 rows × 5566 columns</p>\n",
              "</div>"
            ],
            "text/plain": [
              "   Unnamed: 0    Grain  Year  Alta Floresta D'Oeste (RO)  Ariquemes (RO)  \\\n",
              "0           0  Sorghum  1974                         0.0             0.0   \n",
              "1           1    Wheat  1974                         0.0             0.0   \n",
              "2           2  Sorghum  1975                         0.0             0.0   \n",
              "3           3    Wheat  1975                         0.0             0.0   \n",
              "4           4  Sorghum  1976                         0.0             0.0   \n",
              "\n",
              "   Cabixi (RO)  Cacoal (RO)  Cerejeiras (RO)  Colorado do Oeste (RO)  \\\n",
              "0          0.0          0.0              0.0                     0.0   \n",
              "1          0.0          0.0              0.0                     0.0   \n",
              "2          0.0          0.0              0.0                     0.0   \n",
              "3          0.0          0.0              0.0                     0.0   \n",
              "4          0.0          0.0              0.0                     0.0   \n",
              "\n",
              "   Corumbiara (RO)  ...  Uruaçu (GO)  Uruana (GO)  Urutaí (GO)  \\\n",
              "0              0.0  ...          0.0          0.0          0.0   \n",
              "1              0.0  ...          0.0          0.0          0.0   \n",
              "2              0.0  ...          0.0          0.0          0.0   \n",
              "3              0.0  ...          0.0          0.0          0.0   \n",
              "4              0.0  ...          0.0          0.0         25.0   \n",
              "\n",
              "   Valparaíso de Goiás (GO)  Varjão (GO)  Vianópolis (GO)  \\\n",
              "0                       0.0          0.0              0.0   \n",
              "1                       0.0          0.0              0.0   \n",
              "2                       0.0          0.0              0.0   \n",
              "3                       0.0          0.0              0.0   \n",
              "4                       0.0          0.0              0.0   \n",
              "\n",
              "   Vicentinópolis (GO)  Vila Boa (GO)  Vila Propício (GO)  Brasília (DF)  \n",
              "0                  0.0            0.0                 0.0            0.0  \n",
              "1                  0.0            0.0                 0.0            0.0  \n",
              "2                  0.0            0.0                 0.0            0.0  \n",
              "3                  0.0            0.0                 0.0            0.0  \n",
              "4                  0.0            0.0                 0.0            0.0  \n",
              "\n",
              "[5 rows x 5566 columns]"
            ]
          },
          "execution_count": 10,
          "metadata": {},
          "output_type": "execute_result"
        }
      ],
      "source": [
        "df1.head()"
      ]
    },
    {
      "cell_type": "code",
      "execution_count": 11,
      "metadata": {
        "id": "wTWLmeOYVSSn"
      },
      "outputs": [],
      "source": [
        "melted_df1 = pd.melt(df1, id_vars=['Unnamed: 0', 'Grain', 'Year'], var_name='Cidade', value_name='Area')"
      ]
    },
    {
      "cell_type": "code",
      "execution_count": 12,
      "metadata": {
        "id": "N2MHgZ9TVk8j"
      },
      "outputs": [],
      "source": [
        "melted_df1=melted_df1.rename(columns={'Unnamed: 0':'ID'})"
      ]
    },
    {
      "cell_type": "code",
      "execution_count": 13,
      "metadata": {
        "colab": {
          "base_uri": "https://localhost:8080/",
          "height": 206
        },
        "id": "_4ygP-S5Vnqq",
        "outputId": "d4322878-9b61-40cc-82ce-a1d632f04fca"
      },
      "outputs": [
        {
          "data": {
            "text/html": [
              "<div>\n",
              "<style scoped>\n",
              "    .dataframe tbody tr th:only-of-type {\n",
              "        vertical-align: middle;\n",
              "    }\n",
              "\n",
              "    .dataframe tbody tr th {\n",
              "        vertical-align: top;\n",
              "    }\n",
              "\n",
              "    .dataframe thead th {\n",
              "        text-align: right;\n",
              "    }\n",
              "</style>\n",
              "<table border=\"1\" class=\"dataframe\">\n",
              "  <thead>\n",
              "    <tr style=\"text-align: right;\">\n",
              "      <th></th>\n",
              "      <th>ID</th>\n",
              "      <th>Grain</th>\n",
              "      <th>Year</th>\n",
              "      <th>Cidade</th>\n",
              "      <th>Area</th>\n",
              "    </tr>\n",
              "  </thead>\n",
              "  <tbody>\n",
              "    <tr>\n",
              "      <th>0</th>\n",
              "      <td>0</td>\n",
              "      <td>Sorghum</td>\n",
              "      <td>1974</td>\n",
              "      <td>Alta Floresta D'Oeste (RO)</td>\n",
              "      <td>0.0</td>\n",
              "    </tr>\n",
              "    <tr>\n",
              "      <th>1</th>\n",
              "      <td>1</td>\n",
              "      <td>Wheat</td>\n",
              "      <td>1974</td>\n",
              "      <td>Alta Floresta D'Oeste (RO)</td>\n",
              "      <td>0.0</td>\n",
              "    </tr>\n",
              "    <tr>\n",
              "      <th>2</th>\n",
              "      <td>2</td>\n",
              "      <td>Sorghum</td>\n",
              "      <td>1975</td>\n",
              "      <td>Alta Floresta D'Oeste (RO)</td>\n",
              "      <td>0.0</td>\n",
              "    </tr>\n",
              "    <tr>\n",
              "      <th>3</th>\n",
              "      <td>3</td>\n",
              "      <td>Wheat</td>\n",
              "      <td>1975</td>\n",
              "      <td>Alta Floresta D'Oeste (RO)</td>\n",
              "      <td>0.0</td>\n",
              "    </tr>\n",
              "    <tr>\n",
              "      <th>4</th>\n",
              "      <td>4</td>\n",
              "      <td>Sorghum</td>\n",
              "      <td>1976</td>\n",
              "      <td>Alta Floresta D'Oeste (RO)</td>\n",
              "      <td>0.0</td>\n",
              "    </tr>\n",
              "  </tbody>\n",
              "</table>\n",
              "</div>"
            ],
            "text/plain": [
              "   ID    Grain  Year                      Cidade  Area\n",
              "0   0  Sorghum  1974  Alta Floresta D'Oeste (RO)   0.0\n",
              "1   1    Wheat  1974  Alta Floresta D'Oeste (RO)   0.0\n",
              "2   2  Sorghum  1975  Alta Floresta D'Oeste (RO)   0.0\n",
              "3   3    Wheat  1975  Alta Floresta D'Oeste (RO)   0.0\n",
              "4   4  Sorghum  1976  Alta Floresta D'Oeste (RO)   0.0"
            ]
          },
          "execution_count": 13,
          "metadata": {},
          "output_type": "execute_result"
        }
      ],
      "source": [
        "melted_df1.head()"
      ]
    },
    {
      "cell_type": "code",
      "execution_count": 14,
      "metadata": {
        "id": "N1PVHaogV8eG"
      },
      "outputs": [],
      "source": [
        "df2=pd.merge(melted_df1, melted_df, how='inner', on=None, left_on=None, right_on=None, left_index=False, right_index=False, sort=False)"
      ]
    },
    {
      "cell_type": "code",
      "execution_count": 15,
      "metadata": {
        "colab": {
          "base_uri": "https://localhost:8080/",
          "height": 206
        },
        "id": "2plpT1MqVfhh",
        "outputId": "0d275ec8-5626-44c5-a09e-5345f5ab7821"
      },
      "outputs": [
        {
          "data": {
            "text/html": [
              "<div>\n",
              "<style scoped>\n",
              "    .dataframe tbody tr th:only-of-type {\n",
              "        vertical-align: middle;\n",
              "    }\n",
              "\n",
              "    .dataframe tbody tr th {\n",
              "        vertical-align: top;\n",
              "    }\n",
              "\n",
              "    .dataframe thead th {\n",
              "        text-align: right;\n",
              "    }\n",
              "</style>\n",
              "<table border=\"1\" class=\"dataframe\">\n",
              "  <thead>\n",
              "    <tr style=\"text-align: right;\">\n",
              "      <th></th>\n",
              "      <th>ID</th>\n",
              "      <th>Grain</th>\n",
              "      <th>Year</th>\n",
              "      <th>Cidade</th>\n",
              "      <th>Area</th>\n",
              "      <th>Produção</th>\n",
              "    </tr>\n",
              "  </thead>\n",
              "  <tbody>\n",
              "    <tr>\n",
              "      <th>0</th>\n",
              "      <td>0</td>\n",
              "      <td>Sorghum</td>\n",
              "      <td>1974</td>\n",
              "      <td>Alta Floresta D'Oeste (RO)</td>\n",
              "      <td>0.0</td>\n",
              "      <td>NaN</td>\n",
              "    </tr>\n",
              "    <tr>\n",
              "      <th>1</th>\n",
              "      <td>1</td>\n",
              "      <td>Wheat</td>\n",
              "      <td>1974</td>\n",
              "      <td>Alta Floresta D'Oeste (RO)</td>\n",
              "      <td>0.0</td>\n",
              "      <td>NaN</td>\n",
              "    </tr>\n",
              "    <tr>\n",
              "      <th>2</th>\n",
              "      <td>2</td>\n",
              "      <td>Sorghum</td>\n",
              "      <td>1975</td>\n",
              "      <td>Alta Floresta D'Oeste (RO)</td>\n",
              "      <td>0.0</td>\n",
              "      <td>NaN</td>\n",
              "    </tr>\n",
              "    <tr>\n",
              "      <th>3</th>\n",
              "      <td>3</td>\n",
              "      <td>Wheat</td>\n",
              "      <td>1975</td>\n",
              "      <td>Alta Floresta D'Oeste (RO)</td>\n",
              "      <td>0.0</td>\n",
              "      <td>NaN</td>\n",
              "    </tr>\n",
              "    <tr>\n",
              "      <th>4</th>\n",
              "      <td>4</td>\n",
              "      <td>Sorghum</td>\n",
              "      <td>1976</td>\n",
              "      <td>Alta Floresta D'Oeste (RO)</td>\n",
              "      <td>0.0</td>\n",
              "      <td>NaN</td>\n",
              "    </tr>\n",
              "  </tbody>\n",
              "</table>\n",
              "</div>"
            ],
            "text/plain": [
              "   ID    Grain  Year                      Cidade  Area  Produção\n",
              "0   0  Sorghum  1974  Alta Floresta D'Oeste (RO)   0.0       NaN\n",
              "1   1    Wheat  1974  Alta Floresta D'Oeste (RO)   0.0       NaN\n",
              "2   2  Sorghum  1975  Alta Floresta D'Oeste (RO)   0.0       NaN\n",
              "3   3    Wheat  1975  Alta Floresta D'Oeste (RO)   0.0       NaN\n",
              "4   4  Sorghum  1976  Alta Floresta D'Oeste (RO)   0.0       NaN"
            ]
          },
          "execution_count": 15,
          "metadata": {},
          "output_type": "execute_result"
        }
      ],
      "source": [
        "df2.head()"
      ]
    },
    {
      "cell_type": "markdown",
      "metadata": {
        "id": "4vxu6QyFGEWY"
      },
      "source": [
        ">> Tamanho dos dados"
      ]
    },
    {
      "cell_type": "code",
      "execution_count": 16,
      "metadata": {
        "colab": {
          "base_uri": "https://localhost:8080/"
        },
        "id": "tW6j8Km5GEWY",
        "outputId": "7cc8b2fe-7365-401d-adf6-fc8aeffb70fd"
      },
      "outputs": [
        {
          "data": {
            "text/plain": [
              "(2558980, 6)"
            ]
          },
          "execution_count": 16,
          "metadata": {},
          "output_type": "execute_result"
        }
      ],
      "source": [
        "df2.shape"
      ]
    },
    {
      "cell_type": "code",
      "execution_count": 17,
      "metadata": {
        "colab": {
          "base_uri": "https://localhost:8080/"
        },
        "id": "RzvBTRXNGEWa",
        "outputId": "ebab66c1-eccb-4a5f-d926-fe4d3bae3bfe"
      },
      "outputs": [
        {
          "data": {
            "text/plain": [
              "Index(['ID', 'Grain', 'Year', 'Cidade', 'Area', 'Produção'], dtype='object')"
            ]
          },
          "execution_count": 17,
          "metadata": {},
          "output_type": "execute_result"
        }
      ],
      "source": [
        "df2.columns"
      ]
    },
    {
      "cell_type": "markdown",
      "metadata": {
        "id": "aFfZDAP1oUDx"
      },
      "source": [
        "\n",
        "\n",
        "---\n",
        "\n",
        ">>Aula 17/10\n",
        "\n",
        "---\n",
        "\n"
      ]
    },
    {
      "cell_type": "markdown",
      "metadata": {
        "id": "rloh_csOjExz"
      },
      "source": [
        "## Pré-processamento\n",
        "\n",
        "LIMPEZA DE DADOS: REMOÇÃO DE OUTLIERS, TRATAMENTO DE VALORES AUSENTES, PADRONIZAÇÃO E NORMALIZAÇÃO."
      ]
    },
    {
      "cell_type": "markdown",
      "metadata": {
        "id": "s5q8bD_eGEWd"
      },
      "source": [
        "### Dados Faltantes (valores ausentes)\n",
        ">Para verificar a ocorrência de dados faltantes  utiliza-se a função ***isnull*** que verifica em cada linha (amostra) se a célula é nula (vazia) em cada coluna, seguida da função ***sum***, que irá somar todas as respostas verdadeiras obtidas na função anterior, da forma:"
      ]
    },
    {
      "cell_type": "code",
      "execution_count": 18,
      "metadata": {
        "colab": {
          "base_uri": "https://localhost:8080/",
          "height": 272
        },
        "id": "kROA3NV7GEWd",
        "outputId": "19cc9532-49bc-43f3-938a-4250dd5410eb"
      },
      "outputs": [
        {
          "data": {
            "text/plain": [
              "ID                0\n",
              "Grain             0\n",
              "Year              0\n",
              "Cidade            0\n",
              "Area              0\n",
              "Produção    1970292\n",
              "dtype: int64"
            ]
          },
          "execution_count": 18,
          "metadata": {},
          "output_type": "execute_result"
        }
      ],
      "source": [
        "df2.isnull().sum()"
      ]
    },
    {
      "cell_type": "markdown",
      "metadata": {
        "id": "77zgr4UVGEWe"
      },
      "source": [
        ">>Para realizar a substituição de valores nulos  pode-se utilizar o método ***fillna***. Esse método permite preencher os valores faltantes por  valor determinado pelo usuário (informado no parâmetro value) ou utilizar um método de substituição, que pode, por exemplo, substituir o valor faltante pelo valor anterior válido (método ***ffill***) ou o próximo valor válido (método ***bfill***). Mas é importante destacar que é necessário ter cautela com o seu uso, pois pode acarretar inviesamento dos dados"
      ]
    },
    {
      "cell_type": "markdown",
      "metadata": {
        "id": "npk0kron2oda"
      },
      "source": [
        ">> Cautela!\n",
        ">>>***Será que ausente (NaN) é zero ????***"
      ]
    },
    {
      "cell_type": "code",
      "execution_count": 21,
      "metadata": {
        "colab": {
          "base_uri": "https://localhost:8080/",
          "height": 676
        },
        "id": "PESsE_zw2nJQ",
        "outputId": "c895d9af-4c74-449e-ef45-72f9ea6e3449"
      },
      "outputs": [
        {
          "data": {
            "text/html": [
              "<div>\n",
              "<style scoped>\n",
              "    .dataframe tbody tr th:only-of-type {\n",
              "        vertical-align: middle;\n",
              "    }\n",
              "\n",
              "    .dataframe tbody tr th {\n",
              "        vertical-align: top;\n",
              "    }\n",
              "\n",
              "    .dataframe thead th {\n",
              "        text-align: right;\n",
              "    }\n",
              "</style>\n",
              "<table border=\"1\" class=\"dataframe\">\n",
              "  <thead>\n",
              "    <tr style=\"text-align: right;\">\n",
              "      <th></th>\n",
              "      <th>ID</th>\n",
              "      <th>Grain</th>\n",
              "      <th>Year</th>\n",
              "      <th>Cidade</th>\n",
              "      <th>Area</th>\n",
              "      <th>Produção</th>\n",
              "    </tr>\n",
              "  </thead>\n",
              "  <tbody>\n",
              "    <tr>\n",
              "      <th>0</th>\n",
              "      <td>0</td>\n",
              "      <td>Sorghum</td>\n",
              "      <td>1974</td>\n",
              "      <td>Alta Floresta D'Oeste (RO)</td>\n",
              "      <td>0.0</td>\n",
              "      <td>NaN</td>\n",
              "    </tr>\n",
              "    <tr>\n",
              "      <th>1630507</th>\n",
              "      <td>267</td>\n",
              "      <td>Beans</td>\n",
              "      <td>2015</td>\n",
              "      <td>Jandira (SP)</td>\n",
              "      <td>0.0</td>\n",
              "      <td>NaN</td>\n",
              "    </tr>\n",
              "    <tr>\n",
              "      <th>1630506</th>\n",
              "      <td>266</td>\n",
              "      <td>Fava Beans</td>\n",
              "      <td>2015</td>\n",
              "      <td>Jandira (SP)</td>\n",
              "      <td>0.0</td>\n",
              "      <td>NaN</td>\n",
              "    </tr>\n",
              "    <tr>\n",
              "      <th>1630505</th>\n",
              "      <td>265</td>\n",
              "      <td>Beans</td>\n",
              "      <td>2014</td>\n",
              "      <td>Jandira (SP)</td>\n",
              "      <td>0.0</td>\n",
              "      <td>NaN</td>\n",
              "    </tr>\n",
              "    <tr>\n",
              "      <th>1630504</th>\n",
              "      <td>264</td>\n",
              "      <td>Fava Beans</td>\n",
              "      <td>2014</td>\n",
              "      <td>Jandira (SP)</td>\n",
              "      <td>0.0</td>\n",
              "      <td>NaN</td>\n",
              "    </tr>\n",
              "    <tr>\n",
              "      <th>...</th>\n",
              "      <td>...</td>\n",
              "      <td>...</td>\n",
              "      <td>...</td>\n",
              "      <td>...</td>\n",
              "      <td>...</td>\n",
              "      <td>...</td>\n",
              "    </tr>\n",
              "    <tr>\n",
              "      <th>806689</th>\n",
              "      <td>309</td>\n",
              "      <td>Rye</td>\n",
              "      <td>1990</td>\n",
              "      <td>Aracaju (SE)</td>\n",
              "      <td>0.0</td>\n",
              "      <td>NaN</td>\n",
              "    </tr>\n",
              "    <tr>\n",
              "      <th>806688</th>\n",
              "      <td>308</td>\n",
              "      <td>Oats</td>\n",
              "      <td>1990</td>\n",
              "      <td>Aracaju (SE)</td>\n",
              "      <td>0.0</td>\n",
              "      <td>NaN</td>\n",
              "    </tr>\n",
              "    <tr>\n",
              "      <th>806687</th>\n",
              "      <td>307</td>\n",
              "      <td>Rye</td>\n",
              "      <td>1989</td>\n",
              "      <td>Aracaju (SE)</td>\n",
              "      <td>0.0</td>\n",
              "      <td>NaN</td>\n",
              "    </tr>\n",
              "    <tr>\n",
              "      <th>806775</th>\n",
              "      <td>395</td>\n",
              "      <td>Pea</td>\n",
              "      <td>1987</td>\n",
              "      <td>Aracaju (SE)</td>\n",
              "      <td>0.0</td>\n",
              "      <td>NaN</td>\n",
              "    </tr>\n",
              "    <tr>\n",
              "      <th>2558974</th>\n",
              "      <td>454</td>\n",
              "      <td>Barley</td>\n",
              "      <td>2017</td>\n",
              "      <td>Brasília (DF)</td>\n",
              "      <td>0.0</td>\n",
              "      <td>NaN</td>\n",
              "    </tr>\n",
              "  </tbody>\n",
              "</table>\n",
              "<p>1970292 rows × 6 columns</p>\n",
              "</div>"
            ],
            "text/plain": [
              "          ID       Grain  Year                      Cidade  Area  Produção\n",
              "0          0     Sorghum  1974  Alta Floresta D'Oeste (RO)   0.0       NaN\n",
              "1630507  267       Beans  2015                Jandira (SP)   0.0       NaN\n",
              "1630506  266  Fava Beans  2015                Jandira (SP)   0.0       NaN\n",
              "1630505  265       Beans  2014                Jandira (SP)   0.0       NaN\n",
              "1630504  264  Fava Beans  2014                Jandira (SP)   0.0       NaN\n",
              "...      ...         ...   ...                         ...   ...       ...\n",
              "806689   309         Rye  1990                Aracaju (SE)   0.0       NaN\n",
              "806688   308        Oats  1990                Aracaju (SE)   0.0       NaN\n",
              "806687   307         Rye  1989                Aracaju (SE)   0.0       NaN\n",
              "806775   395         Pea  1987                Aracaju (SE)   0.0       NaN\n",
              "2558974  454      Barley  2017               Brasília (DF)   0.0       NaN\n",
              "\n",
              "[1970292 rows x 6 columns]"
            ]
          },
          "execution_count": 21,
          "metadata": {},
          "output_type": "execute_result"
        }
      ],
      "source": [
        "linhas_ausentes = df2[df2.isnull().any(axis=1)]\n",
        "linhas_ausentes.sample(20)\n",
        "linhas_ausentes.sort_values(by='Area',ascending=True)"
      ]
    },
    {
      "cell_type": "markdown",
      "metadata": {
        "id": "h0bwywQPGEWe"
      },
      "source": [
        "    df2 = df2.fillna(value=0)\n",
        "    df2 = df2.fillna(method='ffill')"
      ]
    },
    {
      "cell_type": "markdown",
      "metadata": {
        "id": "YxuywVgB6E0F"
      },
      "source": [
        ">>> ***Parece ser razoavel...***"
      ]
    },
    {
      "cell_type": "code",
      "execution_count": 22,
      "metadata": {
        "id": "l5laG_b5w-uE"
      },
      "outputs": [],
      "source": [
        "df2 = df2.fillna(value=0)"
      ]
    },
    {
      "cell_type": "code",
      "execution_count": 23,
      "metadata": {
        "colab": {
          "base_uri": "https://localhost:8080/",
          "height": 363
        },
        "id": "Wr7HoZAR6kEX",
        "outputId": "270d9b9d-67d5-4391-9418-e1cbf1c96056"
      },
      "outputs": [
        {
          "data": {
            "text/html": [
              "<div>\n",
              "<style scoped>\n",
              "    .dataframe tbody tr th:only-of-type {\n",
              "        vertical-align: middle;\n",
              "    }\n",
              "\n",
              "    .dataframe tbody tr th {\n",
              "        vertical-align: top;\n",
              "    }\n",
              "\n",
              "    .dataframe thead th {\n",
              "        text-align: right;\n",
              "    }\n",
              "</style>\n",
              "<table border=\"1\" class=\"dataframe\">\n",
              "  <thead>\n",
              "    <tr style=\"text-align: right;\">\n",
              "      <th></th>\n",
              "      <th>ID</th>\n",
              "      <th>Grain</th>\n",
              "      <th>Year</th>\n",
              "      <th>Cidade</th>\n",
              "      <th>Area</th>\n",
              "      <th>Produção</th>\n",
              "    </tr>\n",
              "  </thead>\n",
              "  <tbody>\n",
              "    <tr>\n",
              "      <th>788525</th>\n",
              "      <td>85</td>\n",
              "      <td>Wheat</td>\n",
              "      <td>2016</td>\n",
              "      <td>Palestina (AL)</td>\n",
              "      <td>0.0</td>\n",
              "      <td>0.00000</td>\n",
              "    </tr>\n",
              "    <tr>\n",
              "      <th>2421312</th>\n",
              "      <td>332</td>\n",
              "      <td>Oats</td>\n",
              "      <td>2002</td>\n",
              "      <td>Peixoto de Azevedo (MT)</td>\n",
              "      <td>0.0</td>\n",
              "      <td>0.00000</td>\n",
              "    </tr>\n",
              "    <tr>\n",
              "      <th>699307</th>\n",
              "      <td>107</td>\n",
              "      <td>Soybeans</td>\n",
              "      <td>1981</td>\n",
              "      <td>Dormentes (PE)</td>\n",
              "      <td>0.0</td>\n",
              "      <td>0.00000</td>\n",
              "    </tr>\n",
              "    <tr>\n",
              "      <th>997781</th>\n",
              "      <td>41</td>\n",
              "      <td>Wheat</td>\n",
              "      <td>1994</td>\n",
              "      <td>Santa Maria da Vitória (BA)</td>\n",
              "      <td>0.0</td>\n",
              "      <td>0.00000</td>\n",
              "    </tr>\n",
              "    <tr>\n",
              "      <th>1020409</th>\n",
              "      <td>129</td>\n",
              "      <td>Soybeans</td>\n",
              "      <td>1992</td>\n",
              "      <td>Tremedal (BA)</td>\n",
              "      <td>0.0</td>\n",
              "      <td>0.00000</td>\n",
              "    </tr>\n",
              "    <tr>\n",
              "      <th>2129912</th>\n",
              "      <td>112</td>\n",
              "      <td>Maize</td>\n",
              "      <td>1984</td>\n",
              "      <td>Barão (RS)</td>\n",
              "      <td>0.0</td>\n",
              "      <td>0.00000</td>\n",
              "    </tr>\n",
              "    <tr>\n",
              "      <th>1561207</th>\n",
              "      <td>427</td>\n",
              "      <td>Pea</td>\n",
              "      <td>2003</td>\n",
              "      <td>Cerquilho (SP)</td>\n",
              "      <td>0.0</td>\n",
              "      <td>0.00000</td>\n",
              "    </tr>\n",
              "    <tr>\n",
              "      <th>1615666</th>\n",
              "      <td>146</td>\n",
              "      <td>Maize</td>\n",
              "      <td>2001</td>\n",
              "      <td>Itaju (SP)</td>\n",
              "      <td>2650.0</td>\n",
              "      <td>5.54717</td>\n",
              "    </tr>\n",
              "    <tr>\n",
              "      <th>1991336</th>\n",
              "      <td>456</td>\n",
              "      <td>Barley</td>\n",
              "      <td>2018</td>\n",
              "      <td>Aurora (SC)</td>\n",
              "      <td>0.0</td>\n",
              "      <td>0.00000</td>\n",
              "    </tr>\n",
              "    <tr>\n",
              "      <th>1589821</th>\n",
              "      <td>61</td>\n",
              "      <td>Wheat</td>\n",
              "      <td>2004</td>\n",
              "      <td>Getulina (SP)</td>\n",
              "      <td>0.0</td>\n",
              "      <td>0.00000</td>\n",
              "    </tr>\n",
              "  </tbody>\n",
              "</table>\n",
              "</div>"
            ],
            "text/plain": [
              "          ID     Grain  Year                       Cidade    Area  Produção\n",
              "788525    85     Wheat  2016               Palestina (AL)     0.0   0.00000\n",
              "2421312  332      Oats  2002      Peixoto de Azevedo (MT)     0.0   0.00000\n",
              "699307   107  Soybeans  1981               Dormentes (PE)     0.0   0.00000\n",
              "997781    41     Wheat  1994  Santa Maria da Vitória (BA)     0.0   0.00000\n",
              "1020409  129  Soybeans  1992                Tremedal (BA)     0.0   0.00000\n",
              "2129912  112     Maize  1984                   Barão (RS)     0.0   0.00000\n",
              "1561207  427       Pea  2003               Cerquilho (SP)     0.0   0.00000\n",
              "1615666  146     Maize  2001                   Itaju (SP)  2650.0   5.54717\n",
              "1991336  456    Barley  2018                  Aurora (SC)     0.0   0.00000\n",
              "1589821   61     Wheat  2004                Getulina (SP)     0.0   0.00000"
            ]
          },
          "execution_count": 23,
          "metadata": {},
          "output_type": "execute_result"
        }
      ],
      "source": [
        "df2.sample(10)"
      ]
    },
    {
      "cell_type": "code",
      "execution_count": 24,
      "metadata": {
        "colab": {
          "base_uri": "https://localhost:8080/",
          "height": 526
        },
        "id": "nbpcdZtkcnOU",
        "outputId": "a5a91b13-a353-4e2c-aa38-f2592f2a1727"
      },
      "outputs": [
        {
          "data": {
            "image/png": "[encoded data removed]",
            "text/plain": [
              "<Figure size 800x600 with 1 Axes>"
            ]
          },
          "metadata": {},
          "output_type": "display_data"
        }
      ],
      "source": [
        "import seaborn as sns\n",
        "import matplotlib.pyplot as plt\n",
        "producao_brasil = df2['Produção']\n",
        "plt.figure(figsize=(8, 6))\n",
        "sns.boxplot(y=producao_brasil)\n",
        "plt.title('Produção no Brasil')\n",
        "plt.ylabel('Produção')\n",
        "plt.show()\n"
      ]
    },
    {
      "cell_type": "markdown",
      "metadata": {
        "id": "MEppNXvq4PcB"
      },
      "source": [
        ">>**Remover as linhas com valores iguais a 0**"
      ]
    },
    {
      "cell_type": "code",
      "execution_count": 25,
      "metadata": {
        "id": "JBGnpaJr4NSq"
      },
      "outputs": [],
      "source": [
        "df2_c = df2[df2['Area'] != 0]"
      ]
    },
    {
      "cell_type": "code",
      "execution_count": 26,
      "metadata": {
        "colab": {
          "base_uri": "https://localhost:8080/",
          "height": 363
        },
        "id": "V46cqmkp4kaD",
        "outputId": "88f93342-d7eb-4139-99f1-126e903e1c66"
      },
      "outputs": [
        {
          "data": {
            "text/html": [
              "<div>\n",
              "<style scoped>\n",
              "    .dataframe tbody tr th:only-of-type {\n",
              "        vertical-align: middle;\n",
              "    }\n",
              "\n",
              "    .dataframe tbody tr th {\n",
              "        vertical-align: top;\n",
              "    }\n",
              "\n",
              "    .dataframe thead th {\n",
              "        text-align: right;\n",
              "    }\n",
              "</style>\n",
              "<table border=\"1\" class=\"dataframe\">\n",
              "  <thead>\n",
              "    <tr style=\"text-align: right;\">\n",
              "      <th></th>\n",
              "      <th>ID</th>\n",
              "      <th>Grain</th>\n",
              "      <th>Year</th>\n",
              "      <th>Cidade</th>\n",
              "      <th>Area</th>\n",
              "      <th>Produção</th>\n",
              "    </tr>\n",
              "  </thead>\n",
              "  <tbody>\n",
              "    <tr>\n",
              "      <th>337304</th>\n",
              "      <td>124</td>\n",
              "      <td>Maize</td>\n",
              "      <td>1990</td>\n",
              "      <td>Curimatá (PI)</td>\n",
              "      <td>500.0</td>\n",
              "      <td>0.070000</td>\n",
              "    </tr>\n",
              "    <tr>\n",
              "      <th>1253287</th>\n",
              "      <td>247</td>\n",
              "      <td>Beans</td>\n",
              "      <td>2005</td>\n",
              "      <td>Mesquita (MG)</td>\n",
              "      <td>155.0</td>\n",
              "      <td>0.561290</td>\n",
              "    </tr>\n",
              "    <tr>\n",
              "      <th>2271154</th>\n",
              "      <td>134</td>\n",
              "      <td>Maize</td>\n",
              "      <td>1995</td>\n",
              "      <td>Quinze de Novembro (RS)</td>\n",
              "      <td>3000.0</td>\n",
              "      <td>4.200000</td>\n",
              "    </tr>\n",
              "    <tr>\n",
              "      <th>1874585</th>\n",
              "      <td>85</td>\n",
              "      <td>Wheat</td>\n",
              "      <td>2016</td>\n",
              "      <td>Janiópolis (PR)</td>\n",
              "      <td>2500.0</td>\n",
              "      <td>2.480000</td>\n",
              "    </tr>\n",
              "    <tr>\n",
              "      <th>2012103</th>\n",
              "      <td>63</td>\n",
              "      <td>Wheat</td>\n",
              "      <td>2005</td>\n",
              "      <td>Coronel Freitas (SC)</td>\n",
              "      <td>70.0</td>\n",
              "      <td>0.900000</td>\n",
              "    </tr>\n",
              "    <tr>\n",
              "      <th>1403245</th>\n",
              "      <td>245</td>\n",
              "      <td>Beans</td>\n",
              "      <td>2004</td>\n",
              "      <td>Tiros (MG)</td>\n",
              "      <td>420.0</td>\n",
              "      <td>1.042857</td>\n",
              "    </tr>\n",
              "    <tr>\n",
              "      <th>1632230</th>\n",
              "      <td>150</td>\n",
              "      <td>Maize</td>\n",
              "      <td>2003</td>\n",
              "      <td>Jeriquara (SP)</td>\n",
              "      <td>1220.0</td>\n",
              "      <td>4.770492</td>\n",
              "    </tr>\n",
              "    <tr>\n",
              "      <th>716925</th>\n",
              "      <td>245</td>\n",
              "      <td>Beans</td>\n",
              "      <td>2004</td>\n",
              "      <td>Jupi (PE)</td>\n",
              "      <td>5300.0</td>\n",
              "      <td>0.767547</td>\n",
              "    </tr>\n",
              "    <tr>\n",
              "      <th>50333</th>\n",
              "      <td>193</td>\n",
              "      <td>Beans</td>\n",
              "      <td>1978</td>\n",
              "      <td>Manacapuru (AM)</td>\n",
              "      <td>250.0</td>\n",
              "      <td>1.000000</td>\n",
              "    </tr>\n",
              "    <tr>\n",
              "      <th>1043953</th>\n",
              "      <td>213</td>\n",
              "      <td>Beans</td>\n",
              "      <td>1988</td>\n",
              "      <td>Amparo do Serra (MG)</td>\n",
              "      <td>575.0</td>\n",
              "      <td>0.490435</td>\n",
              "    </tr>\n",
              "  </tbody>\n",
              "</table>\n",
              "</div>"
            ],
            "text/plain": [
              "          ID  Grain  Year                   Cidade    Area  Produção\n",
              "337304   124  Maize  1990            Curimatá (PI)   500.0  0.070000\n",
              "1253287  247  Beans  2005            Mesquita (MG)   155.0  0.561290\n",
              "2271154  134  Maize  1995  Quinze de Novembro (RS)  3000.0  4.200000\n",
              "1874585   85  Wheat  2016          Janiópolis (PR)  2500.0  2.480000\n",
              "2012103   63  Wheat  2005     Coronel Freitas (SC)    70.0  0.900000\n",
              "1403245  245  Beans  2004               Tiros (MG)   420.0  1.042857\n",
              "1632230  150  Maize  2003           Jeriquara (SP)  1220.0  4.770492\n",
              "716925   245  Beans  2004                Jupi (PE)  5300.0  0.767547\n",
              "50333    193  Beans  1978          Manacapuru (AM)   250.0  1.000000\n",
              "1043953  213  Beans  1988     Amparo do Serra (MG)   575.0  0.490435"
            ]
          },
          "execution_count": 26,
          "metadata": {},
          "output_type": "execute_result"
        }
      ],
      "source": [
        "df2_c.sample(10)"
      ]
    },
    {
      "cell_type": "code",
      "execution_count": 27,
      "metadata": {
        "colab": {
          "base_uri": "https://localhost:8080/",
          "height": 526
        },
        "id": "oVcTUl8VzrYy",
        "outputId": "717621db-6ef6-49e7-b542-f999841ee0ba"
      },
      "outputs": [
        {
          "data": {
            "image/png": "[encoded data removed]",
            "text/plain": [
              "<Figure size 800x600 with 1 Axes>"
            ]
          },
          "metadata": {},
          "output_type": "display_data"
        }
      ],
      "source": [
        "import seaborn as sns\n",
        "import matplotlib.pyplot as plt\n",
        "producao_brasil =  df2_c['Produção']\n",
        "plt.figure(figsize=(8, 6))\n",
        "sns.boxplot(y=producao_brasil)\n",
        "plt.title('Produção no Brasil')\n",
        "plt.ylabel('Produção')\n",
        "plt.show()"
      ]
    },
    {
      "cell_type": "markdown",
      "metadata": {
        "id": "mHA_Yicp9FvE"
      },
      "source": [
        ">> **Remover outliers**"
      ]
    },
    {
      "cell_type": "markdown",
      "metadata": {
        "id": "6EYB2NOQ5rMT"
      },
      "source": [
        "Remover outliers de um conjunto de dados pode ser feito de várias maneiras, dependendo do critério de detecção e da distribuição dos dados.\n",
        "\n",
        "1. Usando o Desvio Padrão:\n",
        "\n",
        "Uma abordagem inicial é considerar como outliers os valores que estão a um determinado número de desvios da média.\n",
        "\n",
        "Por exemplo, podemos definir como outliers aqueles que estão a mais de 2 desvios padrão da média."
      ]
    },
    {
      "cell_type": "code",
      "execution_count": 29,
      "metadata": {
        "id": "DuYe6yV55UOQ"
      },
      "outputs": [],
      "source": [
        "num_desvios = 2\n",
        "media = df2_c['Produção'].mean()\n",
        "desvio_padrao = df2_c['Produção'].std()\n",
        "df2_c = df2_c[(df2_c['Produção'] >= media - num_desvios * desvio_padrao) &\n",
        "        (df2_c['Produção'] <= media + num_desvios * desvio_padrao)]"
      ]
    },
    {
      "cell_type": "code",
      "execution_count": 30,
      "metadata": {
        "colab": {
          "base_uri": "https://localhost:8080/",
          "height": 526
        },
        "id": "_-mjoKXw5omT",
        "outputId": "f333b2f2-ff2b-413f-e262-987b71316eef"
      },
      "outputs": [
        {
          "data": {
            "image/png": "[encoded data removed]",
            "text/plain": [
              "<Figure size 800x600 with 1 Axes>"
            ]
          },
          "metadata": {},
          "output_type": "display_data"
        }
      ],
      "source": [
        "import seaborn as sns\n",
        "import matplotlib.pyplot as plt\n",
        "producao_brasil =  df2_c['Produção']\n",
        "plt.figure(figsize=(8, 6))\n",
        "sns.boxplot(y=producao_brasil)\n",
        "plt.title('Produção no Brasil')\n",
        "plt.ylabel('Produção')\n",
        "plt.show()"
      ]
    },
    {
      "cell_type": "markdown",
      "metadata": {
        "id": "sS34n4iYNL2l"
      },
      "source": [
        "##TRANSFORMAÇÃO DE DADOS\n",
        "\n",
        ">>: ENCODING DE VARIÁVEIS CATEGÓRICAS, REDUÇÃO DE DIMENSIONALIDADE.\n"
      ]
    },
    {
      "cell_type": "markdown",
      "metadata": {
        "id": "PQRhSYj4PhXL"
      },
      "source": [
        "### Enconding\n",
        "\n",
        "1. Label Encoding:\n",
        "\n",
        "O Label Encoding converte cada categoria em um número inteiro. É simples, mas introduz uma ***ordenação implícita*** entre as categorias, o que pode ser problemático para alguns algoritmos (como regressões lineares).\n",
        "\n",
        "Em geral, é mais adequado para algoritmos baseados em árvores (como random forests ou gradient boosting)."
      ]
    },
    {
      "cell_type": "code",
      "execution_count": 31,
      "metadata": {
        "id": "2a6G74pGP_XR"
      },
      "outputs": [],
      "source": [
        "from sklearn.preprocessing import LabelEncoder\n",
        "label_encoder = LabelEncoder()\n",
        "df2_c['Grain_encoded'] = label_encoder.fit_transform(df2_c['Grain'])"
      ]
    },
    {
      "cell_type": "code",
      "execution_count": 32,
      "metadata": {
        "colab": {
          "base_uri": "https://localhost:8080/",
          "height": 206
        },
        "id": "vAf1xuitQIGI",
        "outputId": "c6ab84b5-40eb-43fc-aedd-16ccb3dfc1cd"
      },
      "outputs": [
        {
          "data": {
            "text/html": [
              "<div>\n",
              "<style scoped>\n",
              "    .dataframe tbody tr th:only-of-type {\n",
              "        vertical-align: middle;\n",
              "    }\n",
              "\n",
              "    .dataframe tbody tr th {\n",
              "        vertical-align: top;\n",
              "    }\n",
              "\n",
              "    .dataframe thead th {\n",
              "        text-align: right;\n",
              "    }\n",
              "</style>\n",
              "<table border=\"1\" class=\"dataframe\">\n",
              "  <thead>\n",
              "    <tr style=\"text-align: right;\">\n",
              "      <th></th>\n",
              "      <th>Grain</th>\n",
              "      <th>Grain_encoded</th>\n",
              "    </tr>\n",
              "  </thead>\n",
              "  <tbody>\n",
              "    <tr>\n",
              "      <th>118</th>\n",
              "      <td>Maize</td>\n",
              "      <td>3</td>\n",
              "    </tr>\n",
              "    <tr>\n",
              "      <th>120</th>\n",
              "      <td>Maize</td>\n",
              "      <td>3</td>\n",
              "    </tr>\n",
              "    <tr>\n",
              "      <th>122</th>\n",
              "      <td>Maize</td>\n",
              "      <td>3</td>\n",
              "    </tr>\n",
              "    <tr>\n",
              "      <th>124</th>\n",
              "      <td>Maize</td>\n",
              "      <td>3</td>\n",
              "    </tr>\n",
              "    <tr>\n",
              "      <th>126</th>\n",
              "      <td>Maize</td>\n",
              "      <td>3</td>\n",
              "    </tr>\n",
              "  </tbody>\n",
              "</table>\n",
              "</div>"
            ],
            "text/plain": [
              "     Grain  Grain_encoded\n",
              "118  Maize              3\n",
              "120  Maize              3\n",
              "122  Maize              3\n",
              "124  Maize              3\n",
              "126  Maize              3"
            ]
          },
          "execution_count": 32,
          "metadata": {},
          "output_type": "execute_result"
        }
      ],
      "source": [
        "df2_c[['Grain', 'Grain_encoded']].head()"
      ]
    },
    {
      "cell_type": "markdown",
      "metadata": {
        "id": "Ls9jgh4c3Y6i"
      },
      "source": [
        "2. One-Hot Encoding:   \n",
        "\n",
        "O One-Hot Encoding cria uma coluna binária para cada categoria. Cada coluna indica a presença (true) ou ausência (false) de uma categoria específica o que é apropriado para variáveis  categóricas.\n",
        "\n",
        ">> É a escolha apropriada para variáveis categóricas, para as quais não há uma relação ordinal entre os valores."
      ]
    },
    {
      "cell_type": "code",
      "execution_count": 33,
      "metadata": {
        "id": "16kJbSWJ3FjT"
      },
      "outputs": [],
      "source": [
        "df2_c = pd.get_dummies(df2_c, columns=['Grain'], prefix='Grain')"
      ]
    },
    {
      "cell_type": "code",
      "execution_count": 34,
      "metadata": {
        "colab": {
          "base_uri": "https://localhost:8080/",
          "height": 503
        },
        "id": "IYwSiG_K3rWK",
        "outputId": "48ade5ee-bd8e-4f11-8b82-05207ab5a682"
      },
      "outputs": [
        {
          "data": {
            "text/html": [
              "<div>\n",
              "<style scoped>\n",
              "    .dataframe tbody tr th:only-of-type {\n",
              "        vertical-align: middle;\n",
              "    }\n",
              "\n",
              "    .dataframe tbody tr th {\n",
              "        vertical-align: top;\n",
              "    }\n",
              "\n",
              "    .dataframe thead th {\n",
              "        text-align: right;\n",
              "    }\n",
              "</style>\n",
              "<table border=\"1\" class=\"dataframe\">\n",
              "  <thead>\n",
              "    <tr style=\"text-align: right;\">\n",
              "      <th></th>\n",
              "      <th>ID</th>\n",
              "      <th>Year</th>\n",
              "      <th>Cidade</th>\n",
              "      <th>Area</th>\n",
              "      <th>Produção</th>\n",
              "      <th>Grain_encoded</th>\n",
              "      <th>Grain_Barley</th>\n",
              "      <th>Grain_Beans</th>\n",
              "      <th>Grain_Fava Beans</th>\n",
              "      <th>Grain_Maize</th>\n",
              "      <th>Grain_Oats</th>\n",
              "      <th>Grain_Pea</th>\n",
              "      <th>Grain_Rye</th>\n",
              "      <th>Grain_Sorghum</th>\n",
              "      <th>Grain_Soybeans</th>\n",
              "      <th>Grain_Wheat</th>\n",
              "    </tr>\n",
              "  </thead>\n",
              "  <tbody>\n",
              "    <tr>\n",
              "      <th>118</th>\n",
              "      <td>118</td>\n",
              "      <td>1987</td>\n",
              "      <td>Alta Floresta D'Oeste (RO)</td>\n",
              "      <td>2610.0</td>\n",
              "      <td>1.6</td>\n",
              "      <td>3</td>\n",
              "      <td>False</td>\n",
              "      <td>False</td>\n",
              "      <td>False</td>\n",
              "      <td>True</td>\n",
              "      <td>False</td>\n",
              "      <td>False</td>\n",
              "      <td>False</td>\n",
              "      <td>False</td>\n",
              "      <td>False</td>\n",
              "      <td>False</td>\n",
              "    </tr>\n",
              "    <tr>\n",
              "      <th>120</th>\n",
              "      <td>120</td>\n",
              "      <td>1988</td>\n",
              "      <td>Alta Floresta D'Oeste (RO)</td>\n",
              "      <td>2740.0</td>\n",
              "      <td>1.6</td>\n",
              "      <td>3</td>\n",
              "      <td>False</td>\n",
              "      <td>False</td>\n",
              "      <td>False</td>\n",
              "      <td>True</td>\n",
              "      <td>False</td>\n",
              "      <td>False</td>\n",
              "      <td>False</td>\n",
              "      <td>False</td>\n",
              "      <td>False</td>\n",
              "      <td>False</td>\n",
              "    </tr>\n",
              "    <tr>\n",
              "      <th>122</th>\n",
              "      <td>122</td>\n",
              "      <td>1989</td>\n",
              "      <td>Alta Floresta D'Oeste (RO)</td>\n",
              "      <td>4000.0</td>\n",
              "      <td>1.6</td>\n",
              "      <td>3</td>\n",
              "      <td>False</td>\n",
              "      <td>False</td>\n",
              "      <td>False</td>\n",
              "      <td>True</td>\n",
              "      <td>False</td>\n",
              "      <td>False</td>\n",
              "      <td>False</td>\n",
              "      <td>False</td>\n",
              "      <td>False</td>\n",
              "      <td>False</td>\n",
              "    </tr>\n",
              "    <tr>\n",
              "      <th>124</th>\n",
              "      <td>124</td>\n",
              "      <td>1990</td>\n",
              "      <td>Alta Floresta D'Oeste (RO)</td>\n",
              "      <td>2000.0</td>\n",
              "      <td>1.6</td>\n",
              "      <td>3</td>\n",
              "      <td>False</td>\n",
              "      <td>False</td>\n",
              "      <td>False</td>\n",
              "      <td>True</td>\n",
              "      <td>False</td>\n",
              "      <td>False</td>\n",
              "      <td>False</td>\n",
              "      <td>False</td>\n",
              "      <td>False</td>\n",
              "      <td>False</td>\n",
              "    </tr>\n",
              "    <tr>\n",
              "      <th>126</th>\n",
              "      <td>126</td>\n",
              "      <td>1991</td>\n",
              "      <td>Alta Floresta D'Oeste (RO)</td>\n",
              "      <td>2000.0</td>\n",
              "      <td>1.6</td>\n",
              "      <td>3</td>\n",
              "      <td>False</td>\n",
              "      <td>False</td>\n",
              "      <td>False</td>\n",
              "      <td>True</td>\n",
              "      <td>False</td>\n",
              "      <td>False</td>\n",
              "      <td>False</td>\n",
              "      <td>False</td>\n",
              "      <td>False</td>\n",
              "      <td>False</td>\n",
              "    </tr>\n",
              "  </tbody>\n",
              "</table>\n",
              "</div>"
            ],
            "text/plain": [
              "      ID  Year                      Cidade    Area  Produção  Grain_encoded  \\\n",
              "118  118  1987  Alta Floresta D'Oeste (RO)  2610.0       1.6              3   \n",
              "120  120  1988  Alta Floresta D'Oeste (RO)  2740.0       1.6              3   \n",
              "122  122  1989  Alta Floresta D'Oeste (RO)  4000.0       1.6              3   \n",
              "124  124  1990  Alta Floresta D'Oeste (RO)  2000.0       1.6              3   \n",
              "126  126  1991  Alta Floresta D'Oeste (RO)  2000.0       1.6              3   \n",
              "\n",
              "     Grain_Barley  Grain_Beans  Grain_Fava Beans  Grain_Maize  Grain_Oats  \\\n",
              "118         False        False             False         True       False   \n",
              "120         False        False             False         True       False   \n",
              "122         False        False             False         True       False   \n",
              "124         False        False             False         True       False   \n",
              "126         False        False             False         True       False   \n",
              "\n",
              "     Grain_Pea  Grain_Rye  Grain_Sorghum  Grain_Soybeans  Grain_Wheat  \n",
              "118      False      False          False           False        False  \n",
              "120      False      False          False           False        False  \n",
              "122      False      False          False           False        False  \n",
              "124      False      False          False           False        False  \n",
              "126      False      False          False           False        False  "
            ]
          },
          "execution_count": 34,
          "metadata": {},
          "output_type": "execute_result"
        }
      ],
      "source": [
        "df2_c.head()"
      ]
    },
    {
      "cell_type": "markdown",
      "metadata": {
        "id": "ZmdAH2Py6Ckl"
      },
      "source": [
        "### Análise de correlação\n",
        "\n",
        "Passo importante, especialmente em problemas de aprendizado de máquina e análise estatística.\n",
        "\n",
        "\n",
        "A análise de correlação mede a relação entre variáveis numéricas. O coeficiente de correlação mais comum é o de Pearson, que varia de -1 (correlação negativa perfeita) a 1 (correlação positiva perfeita), enquanto 0 indica ausência de correlação.\n",
        "\n",
        "Em outras palavras, ela avalia se, à medida que uma variável aumenta ou diminui, a outra tende a aumentar, diminuir ou permanecer constante.\n",
        "\n",
        ">>Objetivos da Análise de Correlação:\n",
        "\n",
        "**Diminuir colinearidade:** Em modelos de machine learning, a multicolinearidade (forte correlação entre variáveis preditoras) pode causar problemas, como viés no modelo. Detectar correlações ajuda a tomar decisões sobre quais variáveis manter ou eliminar.\n",
        "\n",
        "**Análise exploratória:** Durante a análise exploratória de dados (EDA), a correlação pode fornecer insights (sempre com a participação do especialista!) sobre como os dados estão relacionados e direcionar escolhas para modelos preditivos.\n",
        "\n",
        ">>Coeficiente de Correlação de Pearson\n",
        "\n",
        "O coeficiente de correlação de Pearson (ou simplesmente \"correlação de Pearson\") mede o grau da relação linear entre duas variáveis. Ele varia de -1 a 1:\n",
        "\n",
        "+1: Correlação perfeita positiva (à medida que uma variável aumenta, a outra também aumenta de maneira perfeitamente linear).\n",
        "\n",
        "-1: Correlação perfeita negativa (à medida que uma variável aumenta, a outra diminui de maneira perfeitamente linear).\n",
        "\n",
        "0: Ausência de correlação linear (as variáveis não têm relação linear, embora possam ter uma relação não linear)."
      ]
    },
    {
      "cell_type": "code",
      "execution_count": 35,
      "metadata": {
        "id": "x_lw-cto8ahh"
      },
      "outputs": [],
      "source": [
        "df2_c_numerical = df2_c.select_dtypes(include=['float64', 'int64'])\n",
        "correlation_matrix = df2_c_numerical.corr()"
      ]
    },
    {
      "cell_type": "code",
      "execution_count": 36,
      "metadata": {
        "colab": {
          "base_uri": "https://localhost:8080/",
          "height": 699
        },
        "id": "9hECUMqq618R",
        "outputId": "d1946e0a-f45a-4b89-9f95-b1cda656d12d"
      },
      "outputs": [
        {
          "data": {
            "image/png": "[encoded data removed]",
            "text/plain": [
              "<Figure size 1000x800 with 2 Axes>"
            ]
          },
          "metadata": {},
          "output_type": "display_data"
        }
      ],
      "source": [
        "plt.figure(figsize=(10, 8))\n",
        "sns.heatmap(correlation_matrix, annot=True, cmap='coolwarm', center=0)\n",
        "plt.title('Matriz de Correlação')\n",
        "plt.show()"
      ]
    },
    {
      "cell_type": "markdown",
      "metadata": {
        "id": "rRA0u6Te9lmn"
      },
      "source": [
        ">> Comentários\n",
        "\n",
        ">>>***annot=True***  :  adiciona os valores de correlação no próprio heatmap, facilitando a interpretação.\n",
        "\n",
        ">>> A variável ID não tem significado\n"
      ]
    },
    {
      "cell_type": "markdown",
      "metadata": {
        "id": "Gxn8oEO1ETGa"
      },
      "source": [
        "## Redutor de Dimensão"
      ]
    },
    {
      "cell_type": "code",
      "execution_count": 55,
      "metadata": {
        "id": "yVSCnKoBB1Tk"
      },
      "outputs": [],
      "source": [
        "from sklearn.preprocessing import StandardScaler\n",
        "from sklearn.decomposition import PCA\n",
        "from sklearn.datasets import load_breast_cancer\n",
        "import numpy as np"
      ]
    },
    {
      "cell_type": "code",
      "execution_count": 38,
      "metadata": {
        "id": "cykngDywB88j"
      },
      "outputs": [],
      "source": [
        "cancer_data = load_breast_cancer()\n",
        "df_cancer = pd.DataFrame(cancer_data.data, columns=cancer_data.feature_names)\n",
        "df_cancer['target'] = cancer_data.target"
      ]
    },
    {
      "cell_type": "code",
      "execution_count": 52,
      "metadata": {
        "colab": {
          "base_uri": "https://localhost:8080/",
          "height": 290
        },
        "id": "DjKSlBJ_CAx6",
        "outputId": "a843c95f-c0ec-4d68-9058-2cfc252a58e1"
      },
      "outputs": [
        {
          "data": {
            "text/html": [
              "<div>\n",
              "<style scoped>\n",
              "    .dataframe tbody tr th:only-of-type {\n",
              "        vertical-align: middle;\n",
              "    }\n",
              "\n",
              "    .dataframe tbody tr th {\n",
              "        vertical-align: top;\n",
              "    }\n",
              "\n",
              "    .dataframe thead th {\n",
              "        text-align: right;\n",
              "    }\n",
              "</style>\n",
              "<table border=\"1\" class=\"dataframe\">\n",
              "  <thead>\n",
              "    <tr style=\"text-align: right;\">\n",
              "      <th></th>\n",
              "      <th>mean radius</th>\n",
              "      <th>mean texture</th>\n",
              "      <th>mean perimeter</th>\n",
              "      <th>mean area</th>\n",
              "      <th>mean smoothness</th>\n",
              "      <th>mean compactness</th>\n",
              "      <th>mean concavity</th>\n",
              "      <th>mean concave points</th>\n",
              "      <th>mean symmetry</th>\n",
              "      <th>mean fractal dimension</th>\n",
              "    </tr>\n",
              "  </thead>\n",
              "  <tbody>\n",
              "    <tr>\n",
              "      <th>mean radius</th>\n",
              "      <td>1.000000</td>\n",
              "      <td>0.323782</td>\n",
              "      <td>0.997855</td>\n",
              "      <td>0.987357</td>\n",
              "      <td>0.170581</td>\n",
              "      <td>0.506124</td>\n",
              "      <td>0.676764</td>\n",
              "      <td>0.822529</td>\n",
              "      <td>0.147741</td>\n",
              "      <td>-0.311631</td>\n",
              "    </tr>\n",
              "    <tr>\n",
              "      <th>mean texture</th>\n",
              "      <td>0.323782</td>\n",
              "      <td>1.000000</td>\n",
              "      <td>0.329533</td>\n",
              "      <td>0.321086</td>\n",
              "      <td>-0.023389</td>\n",
              "      <td>0.236702</td>\n",
              "      <td>0.302418</td>\n",
              "      <td>0.293464</td>\n",
              "      <td>0.071401</td>\n",
              "      <td>-0.076437</td>\n",
              "    </tr>\n",
              "    <tr>\n",
              "      <th>mean perimeter</th>\n",
              "      <td>0.997855</td>\n",
              "      <td>0.329533</td>\n",
              "      <td>1.000000</td>\n",
              "      <td>0.986507</td>\n",
              "      <td>0.207278</td>\n",
              "      <td>0.556936</td>\n",
              "      <td>0.716136</td>\n",
              "      <td>0.850977</td>\n",
              "      <td>0.183027</td>\n",
              "      <td>-0.261477</td>\n",
              "    </tr>\n",
              "    <tr>\n",
              "      <th>mean area</th>\n",
              "      <td>0.987357</td>\n",
              "      <td>0.321086</td>\n",
              "      <td>0.986507</td>\n",
              "      <td>1.000000</td>\n",
              "      <td>0.177028</td>\n",
              "      <td>0.498502</td>\n",
              "      <td>0.685983</td>\n",
              "      <td>0.823269</td>\n",
              "      <td>0.151293</td>\n",
              "      <td>-0.283110</td>\n",
              "    </tr>\n",
              "    <tr>\n",
              "      <th>mean smoothness</th>\n",
              "      <td>0.170581</td>\n",
              "      <td>-0.023389</td>\n",
              "      <td>0.207278</td>\n",
              "      <td>0.177028</td>\n",
              "      <td>1.000000</td>\n",
              "      <td>0.659123</td>\n",
              "      <td>0.521984</td>\n",
              "      <td>0.553695</td>\n",
              "      <td>0.557775</td>\n",
              "      <td>0.584792</td>\n",
              "    </tr>\n",
              "    <tr>\n",
              "      <th>mean compactness</th>\n",
              "      <td>0.506124</td>\n",
              "      <td>0.236702</td>\n",
              "      <td>0.556936</td>\n",
              "      <td>0.498502</td>\n",
              "      <td>0.659123</td>\n",
              "      <td>1.000000</td>\n",
              "      <td>0.883121</td>\n",
              "      <td>0.831135</td>\n",
              "      <td>0.602641</td>\n",
              "      <td>0.565369</td>\n",
              "    </tr>\n",
              "    <tr>\n",
              "      <th>mean concavity</th>\n",
              "      <td>0.676764</td>\n",
              "      <td>0.302418</td>\n",
              "      <td>0.716136</td>\n",
              "      <td>0.685983</td>\n",
              "      <td>0.521984</td>\n",
              "      <td>0.883121</td>\n",
              "      <td>1.000000</td>\n",
              "      <td>0.921391</td>\n",
              "      <td>0.500667</td>\n",
              "      <td>0.336783</td>\n",
              "    </tr>\n",
              "    <tr>\n",
              "      <th>mean concave points</th>\n",
              "      <td>0.822529</td>\n",
              "      <td>0.293464</td>\n",
              "      <td>0.850977</td>\n",
              "      <td>0.823269</td>\n",
              "      <td>0.553695</td>\n",
              "      <td>0.831135</td>\n",
              "      <td>0.921391</td>\n",
              "      <td>1.000000</td>\n",
              "      <td>0.462497</td>\n",
              "      <td>0.166917</td>\n",
              "    </tr>\n",
              "    <tr>\n",
              "      <th>mean symmetry</th>\n",
              "      <td>0.147741</td>\n",
              "      <td>0.071401</td>\n",
              "      <td>0.183027</td>\n",
              "      <td>0.151293</td>\n",
              "      <td>0.557775</td>\n",
              "      <td>0.602641</td>\n",
              "      <td>0.500667</td>\n",
              "      <td>0.462497</td>\n",
              "      <td>1.000000</td>\n",
              "      <td>0.479921</td>\n",
              "    </tr>\n",
              "    <tr>\n",
              "      <th>mean fractal dimension</th>\n",
              "      <td>-0.311631</td>\n",
              "      <td>-0.076437</td>\n",
              "      <td>-0.261477</td>\n",
              "      <td>-0.283110</td>\n",
              "      <td>0.584792</td>\n",
              "      <td>0.565369</td>\n",
              "      <td>0.336783</td>\n",
              "      <td>0.166917</td>\n",
              "      <td>0.479921</td>\n",
              "      <td>1.000000</td>\n",
              "    </tr>\n",
              "  </tbody>\n",
              "</table>\n",
              "</div>"
            ],
            "text/plain": [
              "                        mean radius  mean texture  mean perimeter  mean area  \\\n",
              "mean radius                1.000000      0.323782        0.997855   0.987357   \n",
              "mean texture               0.323782      1.000000        0.329533   0.321086   \n",
              "mean perimeter             0.997855      0.329533        1.000000   0.986507   \n",
              "mean area                  0.987357      0.321086        0.986507   1.000000   \n",
              "mean smoothness            0.170581     -0.023389        0.207278   0.177028   \n",
              "mean compactness           0.506124      0.236702        0.556936   0.498502   \n",
              "mean concavity             0.676764      0.302418        0.716136   0.685983   \n",
              "mean concave points        0.822529      0.293464        0.850977   0.823269   \n",
              "mean symmetry              0.147741      0.071401        0.183027   0.151293   \n",
              "mean fractal dimension    -0.311631     -0.076437       -0.261477  -0.283110   \n",
              "\n",
              "                        mean smoothness  mean compactness  mean concavity  \\\n",
              "mean radius                    0.170581          0.506124        0.676764   \n",
              "mean texture                  -0.023389          0.236702        0.302418   \n",
              "mean perimeter                 0.207278          0.556936        0.716136   \n",
              "mean area                      0.177028          0.498502        0.685983   \n",
              "mean smoothness                1.000000          0.659123        0.521984   \n",
              "mean compactness               0.659123          1.000000        0.883121   \n",
              "mean concavity                 0.521984          0.883121        1.000000   \n",
              "mean concave points            0.553695          0.831135        0.921391   \n",
              "mean symmetry                  0.557775          0.602641        0.500667   \n",
              "mean fractal dimension         0.584792          0.565369        0.336783   \n",
              "\n",
              "                        mean concave points  mean symmetry  \\\n",
              "mean radius                        0.822529       0.147741   \n",
              "mean texture                       0.293464       0.071401   \n",
              "mean perimeter                     0.850977       0.183027   \n",
              "mean area                          0.823269       0.151293   \n",
              "mean smoothness                    0.553695       0.557775   \n",
              "mean compactness                   0.831135       0.602641   \n",
              "mean concavity                     0.921391       0.500667   \n",
              "mean concave points                1.000000       0.462497   \n",
              "mean symmetry                      0.462497       1.000000   \n",
              "mean fractal dimension             0.166917       0.479921   \n",
              "\n",
              "                        mean fractal dimension  \n",
              "mean radius                          -0.311631  \n",
              "mean texture                         -0.076437  \n",
              "mean perimeter                       -0.261477  \n",
              "mean area                            -0.283110  \n",
              "mean smoothness                       0.584792  \n",
              "mean compactness                      0.565369  \n",
              "mean concavity                        0.336783  \n",
              "mean concave points                   0.166917  \n",
              "mean symmetry                         0.479921  \n",
              "mean fractal dimension                1.000000  "
            ]
          },
          "execution_count": 52,
          "metadata": {},
          "output_type": "execute_result"
        }
      ],
      "source": [
        "df_cancer.head()\n",
        "# df_cancer_test = df_cancer[['mean concave points','mean concavity']]\n",
        "df_subset.corr()"
      ]
    },
    {
      "cell_type": "markdown",
      "metadata": {
        "id": "pfZh-QNLEizY"
      },
      "source": [
        ">>>Correlação"
      ]
    },
    {
      "cell_type": "code",
      "execution_count": 51,
      "metadata": {
        "colab": {
          "base_uri": "https://localhost:8080/",
          "height": 849
        },
        "id": "TCPKY2BiCYX7",
        "outputId": "1f955940-c6b5-4116-f6d8-db8407f0a79c"
      },
      "outputs": [
        {
          "data": {
            "image/png": "[encoded data removed]",
            "text/plain": [
              "<Figure size 1000x800 with 2 Axes>"
            ]
          },
          "metadata": {},
          "output_type": "display_data"
        }
      ],
      "source": [
        "df_subset = df_cancer.iloc[:, :10]\n",
        "plt.figure(figsize=(10, 8))\n",
        "sns.heatmap(df_subset.corr(), annot=True, cmap='coolwarm', fmt='.2f')\n",
        "plt.title('Matriz de Correlação - Primeiras 10 Colunas')\n",
        "plt.show()"
      ]
    },
    {
      "cell_type": "markdown",
      "metadata": {
        "id": "LvHjWR3DHAnK"
      },
      "source": [
        "### PCA\n",
        "\n",
        "O PCA (Análise de Componentes Principais, em português) é uma técnica usada para simplificar conjuntos de dados complexos. O PCA busca reduzir o número de características, mantendo as informações mais importantes, o que facilita o entendimento e a análise.\n",
        "\n",
        "Pode-se pensar no PCA como tirar fotos de um objeto em 3D. Para estudar esse objeto, pode-se tirar várias fotos de ângulos diferentes. Mas, para facilitar, o PCA tira as duas fotos mais importantes, que capturam o máximo de detalhes do objeto. Essas fotos simplificam a visualização do objeto, mantendo a maior parte das informações essenciais.\n",
        "\n",
        "**Facilitar a visualização:** Em vez de lidar com muitos dados, o PCA permite que se visualize os dados gráficos de 2 ou 3 dimensões.\n",
        "\n",
        "**Acelerar o processamento:** Ao reduzir a quantidade de informações para analisar, o PCA \"ajuda\" o algoritmos de machine learning a trabalharem mais rápido e de forma mais eficiente."
      ]
    },
    {
      "cell_type": "code",
      "execution_count": 53,
      "metadata": {
        "id": "hwJFHhUfDZBt"
      },
      "outputs": [],
      "source": [
        "pca = PCA(n_components=2)  # Reduzindo para 2 componentes principais\n",
        "Cancer_pca = pca.fit_transform(df_cancer)"
      ]
    },
    {
      "cell_type": "markdown",
      "metadata": {
        "id": "u5YNgA66L7n_"
      },
      "source": [
        "Quando usamos o PCA para reduzir o número de variáveis, cada componente principal que o PCA gera (as \"fotos\" que tiramos dos dados) captura uma parte da informação dos dados originais. A variância explicada indica quanto dessa informação foi capturada por cada um desses componentes principais.\n",
        "\n",
        ">Alta variância explicada significa que o PCA preservou muita informação dos dados originais.\n",
        "\n",
        ">Baixa variância explicada significa que o PCA preservou pouca informação."
      ]
    },
    {
      "cell_type": "code",
      "execution_count": 56,
      "metadata": {
        "colab": {
          "base_uri": "https://localhost:8080/"
        },
        "id": "7639m48JECLU",
        "outputId": "18177d93-d63e-42c2-c1a2-490352ef3a4c"
      },
      "outputs": [
        {
          "name": "stdout",
          "output_type": "stream",
          "text": [
            "Variância explicada por cada componente: [0.98204444 0.01617648]\n",
            "Variância total explicada: 0.9982209233277908\n"
          ]
        }
      ],
      "source": [
        "print(\"Variância explicada por cada componente:\", pca.explained_variance_ratio_)\n",
        "print(\"Variância total explicada:\", np.sum(pca.explained_variance_ratio_))"
      ]
    },
    {
      "cell_type": "code",
      "execution_count": 67,
      "metadata": {},
      "outputs": [],
      "source": [
        "df_cancer_teste = pd.DataFrame(Cancer_pca,columns=['Componente Princiapl 1','Componente Principal 2'])"
      ]
    },
    {
      "cell_type": "code",
      "execution_count": 71,
      "metadata": {},
      "outputs": [],
      "source": [
        "y = df_cancer['target']"
      ]
    },
    {
      "cell_type": "code",
      "execution_count": 72,
      "metadata": {
        "colab": {
          "base_uri": "https://localhost:8080/",
          "height": 564
        },
        "id": "_mgXk3yxD2uJ",
        "outputId": "072a69e9-1e7d-4507-aee5-39906c95c48b"
      },
      "outputs": [
        {
          "data": {
            "image/png": "[encoded data removed]",
            "text/plain": [
              "<Figure size 800x600 with 2 Axes>"
            ]
          },
          "metadata": {},
          "output_type": "display_data"
        }
      ],
      "source": [
        "plt.figure(figsize=(8, 6))\n",
        "plt.scatter(Cancer_pca[:, 0], Cancer_pca[:, 1], c=y, cmap='viridis', edgecolor='k', s=100)\n",
        "plt.xlabel('Componente Principal 1')\n",
        "plt.ylabel('Componente Principal 2')\n",
        "plt.title('PCA - 2 Componentes Principais')\n",
        "plt.colorbar(label='Classe (0 = Maligno, 1 = Benigno)')\n",
        "plt.show()"
      ]
    },
    {
      "cell_type": "code",
      "execution_count": null,
      "metadata": {},
      "outputs": [],
      "source": []
    }
  ],
  "metadata": {
    "accelerator": "GPU",
    "colab": {
      "gpuType": "T4",
      "provenance": []
    },
    "kernelspec": {
      "display_name": "Python 3",
      "name": "python3"
    },
    "language_info": {
      "codemirror_mode": {
        "name": "ipython",
        "version": 3
      },
      "file_extension": ".py",
      "mimetype": "text/x-python",
      "name": "python",
      "nbconvert_exporter": "python",
      "pygments_lexer": "ipython3",
      "version": "3.10.11"
    }
  },
  "nbformat": 4,
  "nbformat_minor": 0
}
